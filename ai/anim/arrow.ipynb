{
 "cells": [
  {
   "cell_type": "code",
   "execution_count": 1,
   "metadata": {},
   "outputs": [
    {
     "data": {
      "text/html": [
       "<pre style=\"white-space:pre;overflow-x:auto;line-height:normal;font-family:Menlo,'DejaVu Sans Mono',consolas,'Courier New',monospace\">Manim Community <span style=\"color: #008000; text-decoration-color: #008000\">v0.17.3</span>\n",
       "\n",
       "</pre>\n"
      ],
      "text/plain": [
       "Manim Community \u001b[32mv0.\u001b[0m\u001b[32m17.3\u001b[0m\n",
       "\n"
      ]
     },
     "metadata": {},
     "output_type": "display_data"
    }
   ],
   "source": [
    "from manim import *"
   ]
  },
  {
   "cell_type": "code",
   "execution_count": 2,
   "metadata": {},
   "outputs": [
    {
     "name": "stderr",
     "output_type": "stream",
     "text": [
      "                                                                                  \r"
     ]
    },
    {
     "data": {
      "text/html": [
       "<video src=\"media\\jupyter\\CreateArrow@2023-09-24@22-46-18.mp4\" controls autoplay loop style=\"max-width: 60%;\"  >\n",
       "      Your browser does not support the <code>video</code> element.\n",
       "    </video>"
      ],
      "text/plain": [
       "<IPython.core.display.Video object>"
      ]
     },
     "metadata": {},
     "output_type": "display_data"
    }
   ],
   "source": [
    "%%manim -qm -v WARNING CreateArrow\n",
    "\n",
    "class CreateArrow(Scene):\n",
    "    def construct(self):\n",
    "        # Create two squares\n",
    "        left_square = Square().set_color(BLUE).shift(LEFT * 2)\n",
    "        right_square = Square().set_color(RED).shift(RIGHT * 2)\n",
    "\n",
    "        # Create an arrow pointing from the left square to the right square\n",
    "        arrow = Arrow(left_square.get_edge_center(RIGHT), right_square.get_edge_center(LEFT))\n",
    "\n",
    "        # Add the squares and the arrow to the scene and animate them\n",
    "        self.play(Create(left_square), Create(right_square), Create(arrow))\n"
   ]
  },
  {
   "cell_type": "code",
   "execution_count": 1,
   "metadata": {},
   "outputs": [
    {
     "data": {
      "text/html": [
       "<pre style=\"white-space:pre;overflow-x:auto;line-height:normal;font-family:Menlo,'DejaVu Sans Mono',consolas,'Courier New',monospace\">Manim Community <span style=\"color: #008000; text-decoration-color: #008000\">v0.17.3</span>\n",
       "\n",
       "</pre>\n"
      ],
      "text/plain": [
       "Manim Community \u001b[32mv0.\u001b[0m\u001b[32m17.3\u001b[0m\n",
       "\n"
      ]
     },
     "metadata": {},
     "output_type": "display_data"
    }
   ],
   "source": [
    "%%manim -qm -v WARNING CreateArrow\n",
    "\n",
    "class CreateArrow(Scene):\n",
    "    def construct(self):\n",
    "        # Create two squares\n",
    "        left_square = Square().set_color(BLUE).shift(LEFT * 2)\n",
    "        right_square = Square().set_color(RED).shift(RIGHT * 2)\n",
    "\n",
    "        # Create text labels for the squares\n",
    "        left_text = Text(\"Left\").next_to(left_square, DOWN)\n",
    "        right_text = Text(\"Right\").next_to(right_square, DOWN)\n",
    "\n",
    "        # Create an arrow pointing from the left square to the right square\n",
    "        arrow = Arrow(left_square.get_edge_center(RIGHT), right_square.get_edge_center(LEFT))\n",
    "\n",
    "        # Add the squares, text labels, and the arrow to the scene and animate them\n",
    "        self.play(Create(left_square), Create(right_square), Create(left_text), Create(right_text), Create(arrow))\n"
   ]
  },
  {
   "cell_type": "code",
   "execution_count": 3,
   "metadata": {},
   "outputs": [
    {
     "name": "stderr",
     "output_type": "stream",
     "text": [
      "                                                                                         \r"
     ]
    },
    {
     "data": {
      "text/html": [
       "<video src=\"media\\jupyter\\CreateArrow@2023-09-25@00-30-48.mp4\" controls autoplay loop style=\"max-width: 60%;\"  >\n",
       "      Your browser does not support the <code>video</code> element.\n",
       "    </video>"
      ],
      "text/plain": [
       "<IPython.core.display.Video object>"
      ]
     },
     "metadata": {},
     "output_type": "display_data"
    }
   ],
   "source": [
    "%%manim -qm -v WARNING CreateArrow\n",
    "\n",
    "from manim import *\n",
    "\n",
    "class CreateArrow(Scene):\n",
    "    def construct(self):\n",
    "        # Create two squares\n",
    "        left_square = Square().set_color(BLUE).shift(LEFT * 2)\n",
    "        right_square = Square().set_color(RED).shift(RIGHT * 2)\n",
    "\n",
    "        # Add the squares to the scene and animate them\n",
    "        self.play(Create(left_square), Create(right_square))\n",
    "\n",
    "        # Pause for half a second\n",
    "        self.wait(0.5)\n",
    "\n",
    "        # Create text labels for the squares\n",
    "        left_text = Text(\"Left\").next_to(left_square, DOWN)\n",
    "        right_text = Text(\"Right\").next_to(right_square, DOWN)\n",
    "\n",
    "        # Add the text labels and animate them\n",
    "        self.play(Create(left_text), Create(right_text))\n",
    "\n",
    "        # Pause for half a second\n",
    "        self.wait(0.5)\n",
    "\n",
    "        # Create an arrow pointing from the left square to the right square\n",
    "        arrow = Arrow(left_square.get_edge_center(RIGHT), right_square.get_edge_center(LEFT))\n",
    "\n",
    "        # Add the arrow to the scene and animate it\n",
    "        self.play(Create(arrow))\n"
   ]
  },
  {
   "cell_type": "code",
   "execution_count": 6,
   "metadata": {},
   "outputs": [
    {
     "name": "stderr",
     "output_type": "stream",
     "text": [
      "                                                                        "
     ]
    },
    {
     "name": "stderr",
     "output_type": "stream",
     "text": [
      "                                                                                   \r"
     ]
    },
    {
     "data": {
      "text/html": [
       "<video src=\"media\\jupyter\\CreateArrow@2023-09-25@00-34-04.mp4\" controls autoplay loop style=\"max-width: 60%;\"  >\n",
       "      Your browser does not support the <code>video</code> element.\n",
       "    </video>"
      ],
      "text/plain": [
       "<IPython.core.display.Video object>"
      ]
     },
     "metadata": {},
     "output_type": "display_data"
    }
   ],
   "source": [
    "%%manim -qm -v WARNING CreateArrow\n",
    "\n",
    "from manim import *\n",
    "\n",
    "class CreateArrow(Scene):\n",
    "    def construct(self):\n",
    "        # Create squares\n",
    "        left_square = Square().set_color(BLUE).shift(LEFT * 3)\n",
    "        right_square = Square().set_color(RED).shift(RIGHT * 3)\n",
    "        green_square = Square().set_fill(GREEN, opacity=1).shift(RIGHT * 1)\n",
    "\n",
    "        # Animate the creation of the blue and red squares\n",
    "        self.play(Create(left_square), Create(right_square))\n",
    "\n",
    "        # Pause for half a second\n",
    "        self.wait(0.5)\n",
    "\n",
    "        # Create text labels for the blue and red squares\n",
    "        left_text = Text(\"Left\").next_to(left_square, DOWN)\n",
    "        right_text = Text(\"Right\").next_to(right_square, DOWN)\n",
    "\n",
    "        # Animate the creation of text labels for the blue and red squares\n",
    "        self.play(Create(left_text), Create(right_text))\n",
    "\n",
    "        # Pause for half a second\n",
    "        self.wait(0.5)\n",
    "\n",
    "        # Create an arrow pointing from the blue square to the red square\n",
    "        arrow = Arrow(left_square.get_edge_center(RIGHT), right_square.get_edge_center(LEFT))\n",
    "\n",
    "        # Animate the creation of the arrow\n",
    "        self.play(Create(arrow))\n",
    "\n",
    "        # Pause for half a second\n",
    "        self.wait(0.5)\n",
    "\n",
    "        # Create a text label for the green square\n",
    "        green_text = Text(\"Grass\").next_to(green_square, UP)\n",
    "\n",
    "        # Animate the creation of the green square and its text label\n",
    "        self.play(Create(green_square), Create(green_text))\n"
   ]
  },
  {
   "cell_type": "code",
   "execution_count": null,
   "metadata": {},
   "outputs": [],
   "source": [
    "%%manim -qm -v WARNING CreateArrow\n",
    "\n",
    "from manim import *\n",
    "\n",
    "class CreateArrow(Scene):\n",
    "    def construct(self):\n",
    "        # Create squares\n",
    "        left_square = Square().set_color(BLUE).shift(LEFT * 3)\n",
    "        right_square = Square().set_color(RED).shift(RIGHT * 3)\n",
    "        green_square = Square().set_fill(GREEN, opacity=1).shift(RIGHT * 9)\n",
    "\n",
    "        # Animate the creation of the blue and red squares\n",
    "        self.play(Create(left_square), Create(right_square))\n",
    "\n",
    "        # Pause for half a second\n",
    "        self.wait(0.5)\n",
    "\n",
    "        # Create text labels for the blue and red squares\n",
    "        left_text = Text(\"Left\").next_to(left_square, DOWN)\n",
    "        right_text = Text(\"Right\").next_to(right_square, DOWN)\n",
    "\n",
    "        # Animate the creation of text labels for the blue and red squares\n",
    "        self.play(Create(left_text), Create(right_text))\n",
    "\n",
    "        # Pause for half a second\n",
    "        self.wait(0.5)\n",
    "\n",
    "        # Create an arrow pointing from the blue square to the red square\n",
    "        arrow = Arrow(left_square.get_edge_center(RIGHT), right_square.get_edge_center(LEFT))\n",
    "\n",
    "        # Animate the creation of the arrow\n",
    "        self.play(Create(arrow))\n",
    "\n",
    "        # Pause for half a second\n",
    "        self.wait(0.5)\n",
    "\n",
    "        # Create a text label for the green square\n",
    "        green_text = Text(\"Grass\").next_to(green_square, UP)\n",
    "\n",
    "        # Animate the creation of the green square and its text label\n",
    "        self.play(Create(green_square), Create(green_text))\n"
   ]
  },
  {
   "cell_type": "code",
   "execution_count": 8,
   "metadata": {},
   "outputs": [
    {
     "name": "stderr",
     "output_type": "stream",
     "text": [
      "                                                                                            \r"
     ]
    },
    {
     "data": {
      "text/html": [
       "<video src=\"media\\jupyter\\CreateArrow@2023-09-25@00-36-44.mp4\" controls autoplay loop style=\"max-width: 60%;\"  >\n",
       "      Your browser does not support the <code>video</code> element.\n",
       "    </video>"
      ],
      "text/plain": [
       "<IPython.core.display.Video object>"
      ]
     },
     "metadata": {},
     "output_type": "display_data"
    }
   ],
   "source": [
    "%%manim -qm -v WARNING CreateArrow\n",
    "\n",
    "from manim import *\n",
    "\n",
    "class CreateArrow(Scene):\n",
    "    def construct(self):\n",
    "        # Create two squares\n",
    "        left_square = Square().set_color(BLUE).shift(LEFT * 2)\n",
    "        right_square = Square().set_color(RED).shift(RIGHT * 2)\n",
    "\n",
    "        # Animate the creation of the blue and red squares\n",
    "        self.play(Create(left_square), Create(right_square))\n",
    "\n",
    "        # Pause for half a second\n",
    "        self.wait(0.5)\n",
    "\n",
    "        # Create text labels for the blue and red squares\n",
    "        left_text = Text(\"Left\").next_to(left_square, DOWN)\n",
    "        right_text = Text(\"Right\").next_to(right_square, DOWN)\n",
    "\n",
    "        # Animate the creation of text labels for the blue and red squares\n",
    "        self.play(Create(left_text), Create(right_text))\n",
    "\n",
    "        # Pause for half a second\n",
    "        self.wait(0.5)\n",
    "\n",
    "        # Create an arrow pointing from the blue square to the red square\n",
    "        arrow = Arrow(left_square.get_edge_center(RIGHT), right_square.get_edge_center(LEFT))\n",
    "\n",
    "        # Animate the creation of the arrow\n",
    "        self.play(Create(arrow))\n",
    "\n",
    "        # Pause for half a second\n",
    "        self.wait(0.5)\n",
    "\n",
    "        # Create a green square and its text label\n",
    "        green_square = Square().set_fill(GREEN, opacity=1).shift(RIGHT * 6)\n",
    "        green_text = Text(\"Grass\").next_to(green_square, UP)\n",
    "\n",
    "        # Animate the shifting of the blue and red squares and the creation of the green square\n",
    "        self.play(\n",
    "            left_square.animate.shift(LEFT * 1),\n",
    "            right_square.animate.shift(LEFT * 1),\n",
    "            Create(green_square),\n",
    "            Create(green_text)\n",
    "        )\n"
   ]
  },
  {
   "cell_type": "code",
   "execution_count": 10,
   "metadata": {},
   "outputs": [
    {
     "name": "stderr",
     "output_type": "stream",
     "text": [
      "                                                                                            \r"
     ]
    },
    {
     "data": {
      "text/html": [
       "<video src=\"media\\jupyter\\CreateArrow@2023-09-25@00-39-13.mp4\" controls autoplay loop style=\"max-width: 60%;\"  >\n",
       "      Your browser does not support the <code>video</code> element.\n",
       "    </video>"
      ],
      "text/plain": [
       "<IPython.core.display.Video object>"
      ]
     },
     "metadata": {},
     "output_type": "display_data"
    }
   ],
   "source": [
    "%%manim -qm -v WARNING CreateArrow\n",
    "\n",
    "from manim import *\n",
    "\n",
    "class CreateArrow(Scene):\n",
    "    def construct(self):\n",
    "        # Create two squares\n",
    "        left_square = Square().set_color(BLUE).shift(LEFT * 2)\n",
    "        right_square = Square().set_color(RED).shift(RIGHT * 2)\n",
    "\n",
    "        # Animate the creation of the blue and red squares\n",
    "        self.play(Create(left_square), Create(right_square))\n",
    "\n",
    "        # Pause for half a second\n",
    "        self.wait(0.5)\n",
    "\n",
    "        # Create text labels for the blue and red squares\n",
    "        left_text = Text(\"Left\").next_to(left_square, DOWN)\n",
    "        right_text = Text(\"Right\").next_to(right_square, DOWN)\n",
    "\n",
    "        # Animate the creation of text labels for the blue and red squares\n",
    "        self.play(Create(left_text), Create(right_text))\n",
    "\n",
    "        # Pause for half a second\n",
    "        self.wait(0.5)\n",
    "\n",
    "        # Create an arrow pointing from the blue square to the red square\n",
    "        arrow = Arrow(left_square.get_edge_center(RIGHT), right_square.get_edge_center(LEFT))\n",
    "\n",
    "        # Animate the creation of the arrow\n",
    "        self.play(Create(arrow))\n",
    "\n",
    "        # Pause for half a second\n",
    "        self.wait(0.5)\n",
    "\n",
    "        # Create a green square and its text label\n",
    "        green_square = Square().set_fill(GREEN, opacity=1).shift(RIGHT * 4)\n",
    "        green_text = Text(\"Grass\").next_to(green_square, UP)\n",
    "\n",
    "        # Animate the shifting of the blue and red squares and the arrow, along with the creation of the green square\n",
    "        self.play(\n",
    "            left_square.animate.shift(LEFT * 1),\n",
    "            right_square.animate.shift(LEFT * 1),\n",
    "            arrow.animate.shift(LEFT * 1),\n",
    "            left_text.animate.next_to(left_square, DOWN),\n",
    "            right_text.animate.next_to(right_square, DOWN),\n",
    "            Create(green_square),\n",
    "            Create(green_text)\n",
    "        )\n",
    "\n",
    "        # Pause for one second at the end\n",
    "        self.wait(1)\n"
   ]
  },
  {
   "cell_type": "code",
   "execution_count": 11,
   "metadata": {},
   "outputs": [
    {
     "name": "stderr",
     "output_type": "stream",
     "text": [
      "                                                                                                             \r"
     ]
    },
    {
     "data": {
      "text/html": [
       "<video src=\"media\\jupyter\\CreateArrow@2023-09-25@00-46-03.mp4\" controls autoplay loop style=\"max-width: 60%;\"  >\n",
       "      Your browser does not support the <code>video</code> element.\n",
       "    </video>"
      ],
      "text/plain": [
       "<IPython.core.display.Video object>"
      ]
     },
     "metadata": {},
     "output_type": "display_data"
    }
   ],
   "source": [
    "%%manim -qm -v WARNING CreateArrow\n",
    "\n",
    "from manim import *\n",
    "\n",
    "class CreateArrow(Scene):\n",
    "    def construct(self):\n",
    "        # Create two squares\n",
    "        left_square = Square().set_color(BLUE).shift(LEFT * 2.5)\n",
    "        right_square = Square().set_color(RED).shift(RIGHT * 2.5)\n",
    "\n",
    "        # Create text labels for the blue and red squares\n",
    "        left_text = Text(\"Left\").next_to(left_square, DOWN)\n",
    "        right_text = Text(\"Right\").next_to(right_square, DOWN)\n",
    "\n",
    "        # Group the left square and its text\n",
    "        left_group = VGroup(left_square, left_text)\n",
    "\n",
    "        # Group the right square and its text\n",
    "        right_group = VGroup(right_square, right_text)\n",
    "\n",
    "        # Create an arrow pointing from the blue square to the red square\n",
    "        arrow = Arrow(left_square.get_edge_center(RIGHT), right_square.get_edge_center(LEFT))\n",
    "\n",
    "        # Animate the creation of the blue and red squares and their text labels\n",
    "        self.play(Create(left_group), Create(right_group))\n",
    "\n",
    "        # Pause for half a second\n",
    "        self.wait(0.5)\n",
    "\n",
    "        # Animate the creation of the arrow\n",
    "        self.play(Create(arrow))\n",
    "\n",
    "        # Pause for half a second\n",
    "        self.wait(0.5)\n",
    "\n",
    "        # Create a green square and its text label\n",
    "        green_square = Square().set_fill(GREEN, opacity=1).shift(RIGHT * 7.5)\n",
    "        green_text = Text(\"Grass\").next_to(green_square, UP)\n",
    "\n",
    "        # Group the green square and its text\n",
    "        green_group = VGroup(green_square, green_text)\n",
    "\n",
    "        # Animate the shifting of the blue and red squares and the arrow, and the creation of the green square\n",
    "        self.play(\n",
    "            left_group.animate.shift(LEFT * 2.5),\n",
    "            right_group.animate.shift(LEFT * 2.5),\n",
    "            arrow.animate.shift(LEFT * 2.5),\n",
    "            Create(green_group)\n",
    "        )\n",
    "\n",
    "        # Pause for one second before the end\n",
    "        self.wait(1)\n"
   ]
  },
  {
   "cell_type": "code",
   "execution_count": 12,
   "metadata": {},
   "outputs": [
    {
     "name": "stderr",
     "output_type": "stream",
     "text": [
      "                                                                                                             \r"
     ]
    },
    {
     "data": {
      "text/html": [
       "<video src=\"media\\jupyter\\CreateArrow@2023-09-25@00-48-22.mp4\" controls autoplay loop style=\"max-width: 60%;\"  >\n",
       "      Your browser does not support the <code>video</code> element.\n",
       "    </video>"
      ],
      "text/plain": [
       "<IPython.core.display.Video object>"
      ]
     },
     "metadata": {},
     "output_type": "display_data"
    }
   ],
   "source": [
    "%%manim -qm -v WARNING CreateArrow\n",
    "\n",
    "from manim import *\n",
    "\n",
    "class CreateArrow(Scene):\n",
    "    def construct(self):\n",
    "        # Create two squares\n",
    "        left_square = Square().set_color(BLUE).shift(LEFT * 3)\n",
    "        right_square = Square().set_color(RED).shift(RIGHT * 3)\n",
    "\n",
    "        # Create text labels for the blue and red squares\n",
    "        left_text = Text(\"Left\").next_to(left_square, DOWN)\n",
    "        right_text = Text(\"Right\").next_to(right_square, DOWN)\n",
    "\n",
    "        # Group the left square and its text\n",
    "        left_group = VGroup(left_square, left_text)\n",
    "\n",
    "        # Group the right square and its text\n",
    "        right_group = VGroup(right_square, right_text)\n",
    "\n",
    "        # Create an arrow pointing from the blue square to the red square\n",
    "        arrow = Arrow(left_square.get_edge_center(RIGHT), right_square.get_edge_center(LEFT))\n",
    "\n",
    "        # Animate the creation of the blue and red squares and their text labels\n",
    "        self.play(Create(left_group), Create(right_group))\n",
    "\n",
    "        # Pause for half a second\n",
    "        self.wait(0.5)\n",
    "\n",
    "        # Animate the creation of the arrow\n",
    "        self.play(Create(arrow))\n",
    "\n",
    "        # Pause for half a second\n",
    "        self.wait(0.5)\n",
    "\n",
    "        # Create a green square and its text label\n",
    "        green_square = Square().set_fill(GREEN, opacity=1).shift(RIGHT * 9)\n",
    "        green_text = Text(\"Grass\").next_to(green_square, UP)\n",
    "\n",
    "        # Group the green square and its text\n",
    "        green_group = VGroup(green_square, green_text)\n",
    "\n",
    "        # Animate the shifting of the blue and red squares and the arrow, and the creation of the green square\n",
    "        self.play(\n",
    "            left_group.animate.shift(LEFT * 2),\n",
    "            right_group.animate.shift(LEFT * 2),\n",
    "            arrow.animate.shift(LEFT * 2),\n",
    "            Create(green_group)\n",
    "        )\n",
    "\n",
    "        # Animate shifting the green group to a visible position\n",
    "        self.play(\n",
    "            green_group.animate.shift(LEFT * 4),\n",
    "        )\n",
    "\n",
    "        # Pause for one second before the end\n",
    "        self.wait(1)\n"
   ]
  },
  {
   "cell_type": "code",
   "execution_count": 2,
   "metadata": {},
   "outputs": [
    {
     "data": {
      "text/html": [
       "<pre style=\"white-space:pre;overflow-x:auto;line-height:normal;font-family:Menlo,'DejaVu Sans Mono',consolas,'Courier New',monospace\">Manim Community <span style=\"color: #008000; text-decoration-color: #008000\">v0.17.3</span>\n",
       "\n",
       "</pre>\n"
      ],
      "text/plain": [
       "Manim Community \u001b[32mv0.\u001b[0m\u001b[32m17.3\u001b[0m\n",
       "\n"
      ]
     },
     "metadata": {},
     "output_type": "display_data"
    },
    {
     "name": "stdout",
     "output_type": "stream",
     "text": [
      "The manim module is not an IPython extension.\n"
     ]
    }
   ],
   "source": [
    "%load_ext manim"
   ]
  },
  {
   "cell_type": "code",
   "execution_count": 3,
   "metadata": {},
   "outputs": [
    {
     "name": "stderr",
     "output_type": "stream",
     "text": [
      "                                                                                             \r"
     ]
    },
    {
     "data": {
      "text/html": [
       "<video src=\"media\\jupyter\\CreateMyScene@2023-09-25@19-18-05.mp4\" controls autoplay loop style=\"max-width: 60%;\"  >\n",
       "      Your browser does not support the <code>video</code> element.\n",
       "    </video>"
      ],
      "text/plain": [
       "<IPython.core.display.Video object>"
      ]
     },
     "metadata": {},
     "output_type": "display_data"
    }
   ],
   "source": [
    "%%manim -qm -v WARNING CreateMyScene\n",
    "\n",
    "from manim import *\n",
    "\n",
    "class CreateMyScene(Scene):\n",
    "    def construct(self):\n",
    "        # Create rectangles for the microphone and transcriber background tasks\n",
    "        mic_box = RoundedRectangle(corner_radius=0.2, height=1, width=2, fill_opacity=0.5, fill_color=BLUE)\n",
    "        trans_box = RoundedRectangle(corner_radius=0.2, height=1, width=2, fill_opacity=0.5, fill_color=GREEN)\n",
    "        \n",
    "        # Position the rectangles\n",
    "        mic_box.to_edge(LEFT)\n",
    "        trans_box.to_edge(RIGHT)\n",
    "        \n",
    "        # Create labels for the rectangles\n",
    "        mic_label = Text(\"Mic Listener\").scale(0.5).next_to(mic_box, direction=DOWN, buff=0.1)\n",
    "        trans_label = Text(\"Transcriber\").scale(0.5).next_to(trans_box, direction=DOWN, buff=0.1)\n",
    "        \n",
    "        # Create an arrow for data flow and a label for it\n",
    "        arrow = Arrow(start=mic_box.get_edge_center(RIGHT), end=trans_box.get_edge_center(LEFT), buff=0.2)\n",
    "        arrow_label = Text(\"Audio Data\").scale(0.5).next_to(arrow, direction=UP, buff=0.1)\n",
    "        \n",
    "        # Add all elements to the scene\n",
    "        self.play(Create(mic_box), Write(mic_label))\n",
    "        self.play(Create(trans_box), Write(trans_label))\n",
    "        self.play(Create(arrow), Write(arrow_label))\n"
   ]
  },
  {
   "cell_type": "code",
   "execution_count": null,
   "metadata": {},
   "outputs": [],
   "source": [
    "from manim import *"
   ]
  },
  {
   "cell_type": "code",
   "execution_count": null,
   "metadata": {},
   "outputs": [],
   "source": [
    "%%manim -qm -v WARNING BeegScene\n",
    "\n",
    "class BeegScene(Scene):\n",
    "    def construct(self):\n",
    "        # Create rectangles for the microphone and transcriber background tasks\n",
    "        mic_box = RoundedRectangle(corner_radius=0.2, height=1, width=2, fill_opacity=0.5, fill_color=BLUE)\n",
    "        trans_box = RoundedRectangle(corner_radius=0.2, height=1, width=2, fill_opacity=0.5, fill_color=GREEN)\n",
    "        \n",
    "        # Position the rectangles\n",
    "        mic_box.to_edge(LEFT)\n",
    "        trans_box.to_edge(RIGHT)\n",
    "        \n",
    "        # Create labels for the rectangles\n",
    "        mic_label = Text(\"Mic Listener\").scale(0.5).next_to(mic_box, direction=DOWN, buff=0.1)\n",
    "        trans_label = Text(\"Transcriber\").scale(0.5).next_to(trans_box, direction=DOWN, buff=0.1)\n",
    "        \n",
    "        # Create an arrow for data flow and a label for it\n",
    "        arrow = Arrow(start=mic_box.get_edge_center(RIGHT), end=trans_box.get_edge_center(LEFT), buff=0.2)\n",
    "        arrow_label = Text(\"Audio Data\").scale(0.5).next_to(arrow, direction=UP, buff=0.1)\n",
    "        \n",
    "        # Add all elements to the scene\n",
    "        self.play(Create(mic_box), Write(mic_label))\n",
    "        self.play(Create(trans_box), Write(trans_label))\n",
    "        self.play(Create(arrow), Write(arrow_label))\n"
   ]
  },
  {
   "cell_type": "code",
   "execution_count": 4,
   "metadata": {},
   "outputs": [
    {
     "name": "stderr",
     "output_type": "stream",
     "text": [
      "                                                                                             \r"
     ]
    }
   ],
   "source": [
    "from manim import *\n",
    "\n",
    "# Custom function to make a rectangle with a label\n",
    "def make_rect_with_label(label_text, color):\n",
    "    rect = RoundedRectangle(corner_radius=0.2, height=1, width=2, fill_opacity=0.5, fill_color=color)\n",
    "    label = Text(label_text).scale(0.5).next_to(rect, direction=DOWN, buff=0.1)\n",
    "    return rect, label\n",
    "\n",
    "# Custom function to make an arrow with a label\n",
    "def make_arrow_with_label(start_obj, end_obj, label_text):\n",
    "    arrow = Arrow(start=start_obj.get_edge_center(RIGHT), end=end_obj.get_edge_center(LEFT), buff=0.2)\n",
    "    label = Text(label_text).scale(0.5).next_to(arrow, direction=UP, buff=0.1)\n",
    "    return arrow, label\n",
    "\n",
    "# Create the scene\n",
    "class CreateMyScene(Scene):\n",
    "    def construct(self):\n",
    "        # Create and position all task boxes and labels\n",
    "        mic_box, mic_label = make_rect_with_label(\"Mic Listener\", BLUE)\n",
    "        trans_box, trans_label = make_rect_with_label(\"Transcriber\", GREEN)\n",
    "        typer_box, typer_label = make_rect_with_label(\"Typer\", YELLOW)\n",
    "        chat_gpt_box, chat_gpt_label = make_rect_with_label(\"ChatGPT\", ORANGE)\n",
    "        extension_box, extension_label = make_rect_with_label(\"Extension\", PURPLE)\n",
    "        python_box, python_label = make_rect_with_label(\"Python\", RED)\n",
    "        jupyter_box, jupyter_label = make_rect_with_label(\"Jupyter\", PINK)\n",
    "        \n",
    "        # Create a circle for the user task\n",
    "        user_circle = Circle(radius=0.5, fill_opacity=0.5, fill_color=TEAL)\n",
    "        user_label = Text(\"User\").scale(0.5).next_to(user_circle, direction=DOWN, buff=0.1)\n",
    "        \n",
    "        # Position the task boxes in a snaking layout\n",
    "        mic_box.to_corner(UP * LEFT)\n",
    "        trans_box.next_to(mic_box, RIGHT, buff=1)\n",
    "        typer_box.next_to(trans_box, RIGHT, buff=1)\n",
    "        chat_gpt_box.next_to(typer_box, DOWN, buff=1).to_edge(LEFT)\n",
    "        extension_box.next_to(chat_gpt_box, RIGHT, buff=1)\n",
    "        python_box.next_to(extension_box, RIGHT, buff=1)\n",
    "        jupyter_box.next_to(python_box, DOWN, buff=1).to_edge(LEFT)\n",
    "        user_circle.next_to(jupyter_box, RIGHT, buff=1)\n",
    "        \n",
    "        # Create and position all arrows and their labels\n",
    "        arrow1, label1 = make_arrow_with_label(mic_box, trans_box, \"Audio Data\")\n",
    "        arrow2, label2 = make_arrow_with_label(trans_box, typer_box, \"Text\")\n",
    "        arrow3, label3 = make_arrow_with_label(typer_box, chat_gpt_box, \"Textarea\")\n",
    "        arrow4, label4 = make_arrow_with_label(chat_gpt_box, extension_box, \"DOM Monitoring\")\n",
    "        arrow5, label5 = make_arrow_with_label(extension_box, python_box, \"Clipboard + REST\")\n",
    "        arrow6, label6 = make_arrow_with_label(python_box, jupyter_box, \"Filesystem\")\n",
    "        arrow7, label7 = make_arrow_with_label(jupyter_box, user_circle, \"VSCode\")\n",
    "        \n",
    "        # Add elements to the scene in a sequential manner\n",
    "        for box, label, arrow, arrow_label in zip(\n",
    "            [mic_box, trans_box, typer_box, chat_gpt_box, extension_box, python_box, jupyter_box, user_circle],\n",
    "            [mic_label, trans_label, typer_label, chat_gpt_label, extension_label, python_label, jupyter_label, user_label],\n",
    "            [arrow1, arrow2, arrow3, arrow4, arrow5, arrow6, arrow7],\n",
    "            [label1, label2, label3, label4, label5, label6, label7]\n",
    "        ):\n",
    "            self.play(Create(box), Write(label))\n",
    "            self.play(Create(arrow), Write(arrow_label))\n",
    "            \n",
    "CreateMyScene().render()\n"
   ]
  },
  {
   "cell_type": "code",
   "execution_count": 6,
   "metadata": {},
   "outputs": [
    {
     "name": "stderr",
     "output_type": "stream",
     "text": [
      "                                                                                                    \r"
     ]
    },
    {
     "data": {
      "text/html": [
       "<video src=\"media\\jupyter\\Waveform@2023-09-25@20-13-33.mp4\" controls autoplay loop style=\"max-width: 60%;\"  >\n",
       "      Your browser does not support the <code>video</code> element.\n",
       "    </video>"
      ],
      "text/plain": [
       "<IPython.core.display.Video object>"
      ]
     },
     "metadata": {},
     "output_type": "display_data"
    }
   ],
   "source": [
    "%%manim -qm -v WARNING Waveform\n",
    "\n",
    "from manim import *\n",
    "import numpy as np\n",
    "\n",
    "class Waveform(Scene):\n",
    "    def construct(self):\n",
    "        axes = Axes(\n",
    "            x_range=[0, 10],\n",
    "            y_range=[-2, 2],\n",
    "            axis_config={\"color\": BLUE},\n",
    "        )\n",
    "        \n",
    "        # Function to represent the waveform\n",
    "        def waveform_function(x):\n",
    "            return np.sin(x) * np.cos(x * 0.5)\n",
    "        \n",
    "        waveform = axes.plot(waveform_function, color=WHITE)\n",
    "        \n",
    "        self.play(Create(axes), Create(waveform))\n",
    "        \n",
    "        # Animate the waveform\n",
    "        for i in np.linspace(1, 4, 10):\n",
    "            self.play(\n",
    "                waveform.animate.apply_function(\n",
    "                    lambda p: p + np.array([i * 0.1, np.sin(i * p[0]), 0])\n",
    "                ),\n",
    "                run_time=0.5,\n",
    "            )"
   ]
  },
  {
   "cell_type": "code",
   "execution_count": 3,
   "metadata": {},
   "outputs": [
    {
     "data": {
      "text/html": [
       "<pre style=\"white-space:pre;overflow-x:auto;line-height:normal;font-family:Menlo,'DejaVu Sans Mono',consolas,'Courier New',monospace\">Manim Community <span style=\"color: #008000; text-decoration-color: #008000\">v0.17.3</span>\n",
       "\n",
       "</pre>\n"
      ],
      "text/plain": [
       "Manim Community \u001b[32mv0.\u001b[0m\u001b[32m17.3\u001b[0m\n",
       "\n"
      ]
     },
     "metadata": {},
     "output_type": "display_data"
    }
   ],
   "source": [
    "from manim import *"
   ]
  },
  {
   "cell_type": "code",
   "execution_count": 4,
   "metadata": {},
   "outputs": [
    {
     "name": "stderr",
     "output_type": "stream",
     "text": [
      "                                                                                       \r"
     ]
    },
    {
     "data": {
      "text/html": [
       "<video src=\"media\\jupyter\\WaveformDense@2023-09-25@20-19-16.mp4\" controls autoplay loop style=\"max-width: 60%;\"  >\n",
       "      Your browser does not support the <code>video</code> element.\n",
       "    </video>"
      ],
      "text/plain": [
       "<IPython.core.display.Video object>"
      ]
     },
     "metadata": {},
     "output_type": "display_data"
    }
   ],
   "source": [
    "%%manim -qm -v WARNING WaveformDense\n",
    "\n",
    "import numpy as np\n",
    "\n",
    "class WaveformDense(Scene):\n",
    "    def construct(self):\n",
    "        axes = Axes(\n",
    "            x_range=[0, 10],\n",
    "            y_range=[-2, 2],\n",
    "            axis_config={\"color\": BLUE},\n",
    "        )\n",
    "        \n",
    "        # Function to represent the waveform\n",
    "        def waveform_function(x):\n",
    "            return np.sin(10 * x) * np.cos(x)\n",
    "        \n",
    "        # Create a more densely sampled waveform\n",
    "        x_vals = np.linspace(axes.x_range[0], axes.x_range[1], 5000)\n",
    "        y_vals = waveform_function(x_vals)\n",
    "        points = np.array([axes.c2p(x, y) for x, y in zip(x_vals, y_vals)])\n",
    "        \n",
    "        dense_waveform = VMobject()\n",
    "        dense_waveform.set_points_smoothly(points)\n",
    "        \n",
    "        self.play(Create(axes), Create(dense_waveform))\n",
    "        \n",
    "        # Animate the waveform\n",
    "        for i in np.linspace(1, 4, 40):  # Increased the number of steps for smoother animation\n",
    "            self.play(\n",
    "                dense_waveform.animate.apply_function(\n",
    "                    lambda p: p + np.array([i * 0.01, np.sin(i * 0.1 * p[0]), 0])\n",
    "                ),\n",
    "                run_time=0.1,\n",
    "            )\n"
   ]
  },
  {
   "cell_type": "code",
   "execution_count": 5,
   "metadata": {},
   "outputs": [
    {
     "name": "stderr",
     "output_type": "stream",
     "text": [
      "                                                                                                 \r"
     ]
    },
    {
     "data": {
      "text/html": [
       "<video src=\"media\\jupyter\\WaveformDenseScanning@2023-09-25@20-19-39.mp4\" controls autoplay loop style=\"max-width: 60%;\"  >\n",
       "      Your browser does not support the <code>video</code> element.\n",
       "    </video>"
      ],
      "text/plain": [
       "<IPython.core.display.Video object>"
      ]
     },
     "metadata": {},
     "output_type": "display_data"
    }
   ],
   "source": [
    "%%manim -qm -v WARNING WaveformDenseScanning\n",
    "\n",
    "from manim import *\n",
    "import numpy as np\n",
    "\n",
    "class WaveformDenseScanning(Scene):\n",
    "    def construct(self):\n",
    "        axes = Axes(\n",
    "            x_range=[0, 10],\n",
    "            y_range=[-2, 2],\n",
    "            axis_config={\"color\": BLUE},\n",
    "        )\n",
    "        \n",
    "        # Function to represent the waveform\n",
    "        def waveform_function(x):\n",
    "            return np.sin(10 * x) * np.cos(x)\n",
    "        \n",
    "        # Create a more densely sampled waveform\n",
    "        x_vals = np.linspace(axes.x_range[0], axes.x_range[1], 5000)\n",
    "        y_vals = waveform_function(x_vals)\n",
    "        points = np.array([axes.c2p(x, y) for x, y in zip(x_vals, y_vals)])\n",
    "        \n",
    "        dense_waveform = VMobject()\n",
    "        dense_waveform.set_points_smoothly(points)\n",
    "        \n",
    "        self.play(Create(axes), Create(dense_waveform))\n",
    "        \n",
    "        # Animate the waveform to translate along the x-axis\n",
    "        for i in np.linspace(0, 4, 40):  # 40 steps for the animation\n",
    "            self.play(\n",
    "                dense_waveform.animate.shift(LEFT * 0.1),\n",
    "                run_time=0.1,\n",
    "            )\n"
   ]
  },
  {
   "cell_type": "code",
   "execution_count": 6,
   "metadata": {},
   "outputs": [
    {
     "name": "stderr",
     "output_type": "stream",
     "text": [
      "                                                                                          \r"
     ]
    },
    {
     "data": {
      "text/html": [
       "<video src=\"media\\jupyter\\WaveformDenseScanning@2023-09-25@20-21-25.mp4\" controls autoplay loop style=\"max-width: 60%;\"  >\n",
       "      Your browser does not support the <code>video</code> element.\n",
       "    </video>"
      ],
      "text/plain": [
       "<IPython.core.display.Video object>"
      ]
     },
     "metadata": {},
     "output_type": "display_data"
    }
   ],
   "source": [
    "%%manim -qm -v WARNING WaveformDenseScanning\n",
    "\n",
    "class WaveformDenseScanning(Scene):\n",
    "    def construct(self):\n",
    "        axes = Axes(\n",
    "            x_range=[0, 10],\n",
    "            y_range=[-2, 2],\n",
    "            axis_config={\"color\": BLUE},\n",
    "        )\n",
    "        \n",
    "        # Function to represent the waveform\n",
    "        def waveform_function(x):\n",
    "            return np.sin(10 * x) * np.cos(x)\n",
    "        \n",
    "        # Create a more densely sampled waveform\n",
    "        x_vals = np.linspace(axes.x_range[0], axes.x_range[1], 5000)\n",
    "        y_vals = waveform_function(x_vals)\n",
    "        points = np.array([axes.c2p(x, y) for x, y in zip(x_vals, y_vals)])\n",
    "        \n",
    "        dense_waveform = VMobject()\n",
    "        dense_waveform.set_points_smoothly(points)\n",
    "        \n",
    "        self.play(Create(axes), Create(dense_waveform))\n",
    "        \n",
    "        # Initialize a variable to keep track of the phase shift in the sine wave\n",
    "        phase = 0\n",
    "        \n",
    "        # Animate the waveform to translate along the x-axis and generate new points\n",
    "        for i in np.linspace(0, 4, 40):  # 40 steps for the animation\n",
    "            # Shift existing points to the left\n",
    "            dense_waveform.apply_function(lambda p: p + LEFT * 0.1)\n",
    "            \n",
    "            # Generate new points at the right end\n",
    "            new_x_vals = np.linspace(axes.x_range[1] - 0.1, axes.x_range[1], 50)  # 50 new points\n",
    "            new_y_vals = waveform_function(new_x_vals + phase)  # Apply a phase shift to create the illusion of new data\n",
    "            new_points = np.array([axes.c2p(x, y) for x, y in zip(new_x_vals, new_y_vals)])\n",
    "            \n",
    "            # Append the new points to the existing waveform\n",
    "            dense_waveform.add_points_as_corners(new_points)\n",
    "            \n",
    "            # Update the phase for the next iteration\n",
    "            phase += 0.1\n",
    "            \n",
    "            self.play(\n",
    "                UpdateFromAlphaFunc(dense_waveform, lambda m, a: m),\n",
    "                run_time=0.1,\n",
    "            )"
   ]
  }
 ],
 "metadata": {
  "kernelspec": {
   "display_name": "sfm",
   "language": "python",
   "name": "python3"
  },
  "language_info": {
   "codemirror_mode": {
    "name": "ipython",
    "version": 3
   },
   "file_extension": ".py",
   "mimetype": "text/x-python",
   "name": "python",
   "nbconvert_exporter": "python",
   "pygments_lexer": "ipython3",
   "version": "3.10.12"
  },
  "orig_nbformat": 4
 },
 "nbformat": 4,
 "nbformat_minor": 2
}
