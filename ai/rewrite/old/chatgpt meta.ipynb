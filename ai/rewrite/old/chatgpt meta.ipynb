{
 "cells": [
  {
   "cell_type": "code",
   "execution_count": 16,
   "metadata": {},
   "outputs": [],
   "source": [
    "import json\n",
    "with open(\"chatgpt.ipynb\", \"r\") as f:\n",
    "    content = f.read()\n",
    "\n",
    "data = json.loads(content)\n",
    "data[\"cells\"][0][\"source\"] = [\"hi  bruthere\"]\n",
    "with open(\"chatgpt.ipynb\", \"w\") as f:\n",
    "    json.dump(data, f)\n"
   ]
  },
  {
   "cell_type": "code",
   "execution_count": 30,
   "metadata": {},
   "outputs": [
    {
     "data": {
      "text/plain": [
       "\"What are some challenges and solutions you've encountered while automating tasks?\\n\""
      ]
     },
     "execution_count": 30,
     "metadata": {},
     "output_type": "execute_result"
    }
   ],
   "source": [
    "chatgpt = \"\"\"\n",
    "Oops! Looks like the local LLM is expecting a Markdown code block for its next instruction. My apologies for missing that. Let's give it another shot:\n",
    "\n",
    "```markdown\n",
    "What are some challenges and solutions you've encountered while automating tasks?\n",
    "```\n",
    "\n",
    "Hope it works this time! 😊\n",
    "\"\"\"\n",
    "# extract between the ```\n",
    "\"\\n\".join(chatgpt.split(\"```\")[1].split(\"\\n\")[1:])\n"
   ]
  }
 ],
 "metadata": {
  "kernelspec": {
   "display_name": "sfm",
   "language": "python",
   "name": "python3"
  },
  "language_info": {
   "codemirror_mode": {
    "name": "ipython",
    "version": 3
   },
   "file_extension": ".py",
   "mimetype": "text/x-python",
   "name": "python",
   "nbconvert_exporter": "python",
   "pygments_lexer": "ipython3",
   "version": "3.10.12"
  },
  "orig_nbformat": 4
 },
 "nbformat": 4,
 "nbformat_minor": 2
}
