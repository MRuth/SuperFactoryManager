{
 "cells": [
  {
   "cell_type": "code",
   "execution_count": 2,
   "metadata": {},
   "outputs": [
    {
     "data": {
      "text/plain": [
       "23"
      ]
     },
     "execution_count": 2,
     "metadata": {},
     "output_type": "execute_result"
    }
   ],
   "source": [
    "source = \"../templating/multi_step.ipynb\"\n",
    "\n",
    "import json\n",
    "nb = json.load(open(source, 'r'))\n",
    "len(nb[\"cells\"])"
   ]
  },
  {
   "cell_type": "code",
   "execution_count": 3,
   "metadata": {},
   "outputs": [
    {
     "name": "stdout",
     "output_type": "stream",
     "text": [
      "[]\n",
      "[]\n",
      "[]\n",
      "['def read_test():\\n']\n",
      "['def write_test(content: str):\\n']\n",
      "['def indent_text(text, spaces=4):\\n']\n",
      "['def with_agent_content(test: str, new_content: str) -> str:\\n']\n",
      "['def get_agent_content(test: str) -> str:\\n']\n",
      "[]\n",
      "[]\n",
      "['def focus_intellij():\\n']\n",
      "['def is_building():\\n']\n",
      "['def get_build_output():\\n']\n",
      "['def is_happy_build_output(output):\\n']\n",
      "['def hot_reload():\\n']\n",
      "[]\n",
      "[]\n",
      "[]\n",
      "['def run_test():\\n']\n",
      "[]\n",
      "['def save_convo(messages):\\n']\n",
      "[]\n",
      "[]\n"
     ]
    }
   ],
   "source": [
    "for cell in nb[\"cells\"]:\n",
    "    functions = []\n",
    "    for line in cell[\"source\"]:\n",
    "        if line.startswith(\"def\"):\n",
    "            functions.append(line)\n",
    "    print(functions)"
   ]
  },
  {
   "cell_type": "code",
   "execution_count": 7,
   "metadata": {},
   "outputs": [
    {
     "name": "stdout",
     "output_type": "stream",
     "text": [
      "{'read_test': 'def read_test():\\n    path = r\"D:\\\\Repos\\\\Minecraft\\\\Forge\\\\SuperFactoryManager\\\\src\\\\gametest\\\\java\\\\ca\\\\teamdman\\\\sfm\\\\ai\\\\OpenDoorTest.java\"\\n    with open(path, \"r\") as f:\\n        return f.read()', 'write_test': 'def write_test(content: str):\\n    path = r\"D:\\\\Repos\\\\Minecraft\\\\Forge\\\\SuperFactoryManager\\\\src\\\\gametest\\\\java\\\\ca\\\\teamdman\\\\sfm\\\\ai\\\\OpenDoorTest.java\"\\n    with open(path, \"w\") as f:\\n        f.write(content)', 'indent_text': 'def indent_text(text, spaces=4):\\n    space_str = \" \" * spaces\\n    return \"\\\\n\".join(f\"{space_str}{line}\" for line in text.split(\"\\\\n\"))', 'with_agent_content': 'def with_agent_content(test: str, new_content: str) -> str:\\n    \"\"\"\\n    We want to remove any previous attempts at the test\\n\\n    // begin agent code\\n    item.setPos(Vec3.atCenterOf(helper.absolutePos(pressurePlatePos).offset(0,3,0)));\\n    // end agent code\\n\\n    should remove the content between the two comments\\n    \"\"\"\\n    region_start = \"        // begin agent code\"\\n    region_end = \"        // end agent code\"\\n    start = test.find(region_start)\\n    end = test.find(region_end)\\n    return test[:start+len(region_start)] + \"\\\\n\" + new_content + (\"\\\\n\" if new_content != \"\" else \"\") + test[end:]', 'get_agent_content': 'def get_agent_content(test: str) -> str:\\n    region_start = \"        // begin agent code\"\\n    region_end = \"        // end agent code\"\\n    start = test.find(region_start)\\n    end = test.find(region_end)\\n    return test[start+len(region_start)+1:end]', 'focus_intellij': 'def focus_intellij():\\n    try:\\n        title = next(x for x in gw.getAllTitles() if \"TestChambers.java\" in x)\\n        windows = gw.getWindowsWithTitle(title)\\n        assert len(windows) > 0, f\"Window not found: {title}\"\\n        windows[0].activate()\\n    except Exception as e:\\n        print(f\"Error focusing window: {e}\")', 'is_building': 'def is_building():\\n    return pyautogui.pixel(1947, 622) == (95, 173, 101)', 'get_build_output': \"def get_build_output():\\n    # store cursor position\\n    x, y = pyautogui.position()\\n    # click and drag from 2890, 638 to 2895, 638 to select text without activating links\\n    pyautogui.moveTo(2890, 638)\\n    pyautogui.mouseDown()\\n    pyautogui.moveTo(2895, 638)\\n    pyautogui.mouseUp()\\n    pyautogui.hotkey('ctrl', 'a')\\n    pyautogui.hotkey('ctrl', 'c')\\n    # restore cursor position\\n    pyautogui.moveTo(x, y)\\n    return pyperclip.paste().replace('\\\\r', '')\", 'is_happy_build_output': 'def is_happy_build_output(output):\\n    happy = \"\"\"\\nExecuting pre-compile tasks…\\nRunning \\'before\\' tasks\\nChecking sources\\nRunning \\'after\\' tasks\\nFinished, saving caches…\\nExecuting post-compile tasks…\\nFinished, saving caches…\\n    \"\"\".strip()\\n    return output.strip() == happy', 'hot_reload': 'def hot_reload():\\n    print(\"[Hot Reload] Focusing IntelliJ\")\\n    focus_intellij()\\n    print(\"[Hot Reload] Trigger hot reload\")\\n    pyautogui.hotkey(\\'ctrl\\', \\'alt\\', \\'num0\\')\\n    print(\"[Hot Reload] Wait for build to finish\")\\n    while is_building():\\n        sleep(0.1)\\n    sleep(0.5)\\n    print(\"[Hot Reload] Copy build output\")\\n    output = get_build_output()\\n    success = is_happy_build_output(output)\\n    print(f\"[Hot Reload] Build output succeeded: {success}\")\\n    return success, output', 'run_test': 'def run_test():\\n    print(\"[Run Test] Running test, ensure you ran `/sfm_ai listen` in Minecraft\")\\n    # touch messages/run.txt\\n    (msgdir / \"run.txt\").touch()\\n\\n    from time import sleep\\n    # wait for the file to have test results appended\\n    while not (msgdir / \"run.txt\").stat().st_size > 0:\\n        sleep(0.1)\\n    \\n    # read the file\\n    with open(msgdir / \"run.txt\", \"r\") as f:\\n        results = f.read()\\n\\n    archive_content = get_agent_content(read_test()) + \"\\\\n\\\\n\" + results\\n    \\n    # clean up the file by renaming it with the time\\n    from datetime import datetime\\n    now = datetime.now().strftime(\"%Y-%m-%d_%H-%M-%S\")\\n    (msgdir / f\"run_{now}.txt\").write_text(archive_content)\\n    (msgdir / \"run.txt\").unlink()\\n\\n    return results', 'save_convo': 'def save_convo(messages):\\n    content = \"\"\\n    for msg in messages:\\n        content += f\"# ~=~ {msg[\\'role\\']}\\\\n{msg[\\'content\\']}\\\\n\"\\n        if \"function_call\" in msg:\\n            content += f\"---\\\\n{msg[\\'function_call\\']}\\\\n\"\\n    with open(\"convo.md\", \"w\") as f:\\n        f.write(content)'}\n"
     ]
    }
   ],
   "source": [
    "def extract_functions_from_cell(cell_source):\n",
    "    import ast\n",
    "    tree = ast.parse(cell_source)\n",
    "    functions = {}\n",
    "    for node in ast.walk(tree):\n",
    "        if isinstance(node, ast.FunctionDef):\n",
    "            start_line = node.lineno - 1\n",
    "            end_line = node.end_lineno\n",
    "            function_code = cell_source.split('\\n')[start_line:end_line]\n",
    "            functions[node.name] = '\\n'.join(function_code)\n",
    "            # functions.append('\\n'.join(function_code))\n",
    "    return functions\n",
    "\n",
    "all_functions = {}\n",
    "for cell in nb[\"cells\"]:\n",
    "    if cell['cell_type'] == 'code':\n",
    "        cell_source = ''.join(cell[\"source\"])\n",
    "        try:\n",
    "            functions = extract_functions_from_cell(cell_source)\n",
    "            all_functions.update(functions)\n",
    "        except SyntaxError:\n",
    "            pass\n",
    "\n",
    "print(all_functions)"
   ]
  },
  {
   "cell_type": "code",
   "execution_count": 10,
   "metadata": {},
   "outputs": [
    {
     "name": "stdout",
     "output_type": "stream",
     "text": [
      "read_test\n",
      "write_test\n",
      "indent_text\n",
      "with_agent_content\n",
      "get_agent_content\n",
      "focus_intellij\n",
      "is_building\n",
      "get_build_output\n",
      "is_happy_build_output\n",
      "hot_reload\n",
      "run_test\n",
      "save_convo\n"
     ]
    }
   ],
   "source": [
    "for name,body in all_functions.items():\n",
    "    print(name)\n",
    "    with open(f\"common/{name}.py\", \"w\") as f:\n",
    "        f.write(body)"
   ]
  }
 ],
 "metadata": {
  "kernelspec": {
   "display_name": "sfm",
   "language": "python",
   "name": "python3"
  },
  "language_info": {
   "codemirror_mode": {
    "name": "ipython",
    "version": 3
   },
   "file_extension": ".py",
   "mimetype": "text/x-python",
   "name": "python",
   "nbconvert_exporter": "python",
   "pygments_lexer": "ipython3",
   "version": "3.10.12"
  },
  "orig_nbformat": 4
 },
 "nbformat": 4,
 "nbformat_minor": 2
}
