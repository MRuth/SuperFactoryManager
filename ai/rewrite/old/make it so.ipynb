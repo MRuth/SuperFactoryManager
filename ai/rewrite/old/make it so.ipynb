{
 "cells": [
  {
   "cell_type": "code",
   "execution_count": 1,
   "metadata": {},
   "outputs": [],
   "source": [
    "%load_ext autoreload\n",
    "%autoreload 2"
   ]
  },
  {
   "cell_type": "code",
   "execution_count": 2,
   "metadata": {},
   "outputs": [
    {
     "data": {
      "text/plain": [
       "'package ca.teamdman.sfm.ai;\\n\\nimport ca.teamdman.sfm.SFM;\\nimport ca.teamdman.sfm.SFMGameTestBase;\\nimport net.minecraft.core.BlockPos;\\nimport net.minecraft.gametest.framework.GameTest;\\nimport net.minecraft.gametest.framework.GameTestHelper;\\nimport net.minecraft.world.entity.item.ItemEntity;\\nimport net.minecraft.world.item.ItemStack;\\nimport net.minecraft.world.item.Items;\\nimport net.minecraft.world.level.block.Blocks;\\nimport net.minecraft.world.level.block.DoorBlock;\\nimport net.minecraft.world.phys.Vec3;\\nimport net.minecraftforge.gametest.GameTestHolder;\\nimport net.minecraftforge.gametest.PrefixGameTestTemplate;\\n\\n@GameTestHolder(SFM.MOD_ID)\\n@PrefixGameTestTemplate(false)\\npublic class OpenDoorTest extends SFMGameTestBase {\\n    @GameTest(template = \"3x4x3\")\\n    public static void open_door(GameTestHelper helper) {\\n        var pressurePlatePos = new BlockPos(0, 2, 1);\\n        var redstonePos = new BlockPos(1, 2, 1);\\n        var doorPos = new BlockPos(2, 2, 1);\\n\\n        // set the floor to iron blocks\\n        for (int x = 0; x <= 2; x++) {\\n            for (int z = 0; z <= 2; z++) {\\n                helper.setBlock(new BlockPos(x, 1, z), Blocks.IRON_BLOCK);\\n            }\\n        }\\n\\n        // set the pressure plate\\n        helper.setBlock(pressurePlatePos, Blocks.OAK_PRESSURE_PLATE);\\n\\n        // set the redstone dust\\n        helper.setBlock(redstonePos, Blocks.REDSTONE_WIRE);\\n\\n        // set the door\\n        helper.setBlock(doorPos, Blocks.IRON_DOOR);\\n        \\n        var item = new ItemEntity(\\n                helper.getLevel(),\\n                redstonePos.getX(),\\n                redstonePos.getY(),\\n                redstonePos.getZ(),\\n                new ItemStack(Items.DIAMOND)\\n        );\\n        item.setDeltaMovement(0, 0, 0);\\n\\n        // is this the right position? There might be an improvement here 👀\\n        item.setPos(Vec3.atCenterOf(helper.absolutePos(doorPos).offset(0, 3, 0)));\\n        // begin agent code\\n        // end agent code\\n        helper.getLevel().addFreshEntity(item);\\n        helper.succeedWhen(() -> {\\n            helper.assertBlockProperty(doorPos, DoorBlock.OPEN, true);\\n        });\\n    }\\n}\\n'"
      ]
     },
     "execution_count": 2,
     "metadata": {},
     "output_type": "execute_result"
    }
   ],
   "source": [
    "TEST_PATH = r\"D:\\Repos\\Minecraft\\Forge\\SuperFactoryManager\\src\\gametest\\java\\ca\\teamdman\\sfm\\ai\\OpenDoorTest.java\"\n",
    "\n",
    "from common.read_test import read_test\n",
    "read_test(TEST_PATH)"
   ]
  },
  {
   "cell_type": "code",
   "execution_count": 3,
   "metadata": {},
   "outputs": [],
   "source": [
    "# Wipe the agent code\n",
    "from common.write_test import write_test\n",
    "from common.with_agent_content import with_agent_content\n",
    "failing_test = with_agent_content(read_test(TEST_PATH), '')\n",
    "assert len(failing_test) > 200\n",
    "write_test(failing_test)"
   ]
  },
  {
   "cell_type": "code",
   "execution_count": 4,
   "metadata": {},
   "outputs": [
    {
     "name": "stdout",
     "output_type": "stream",
     "text": [
      "[Run Test] Running test, ensure you ran `/sfm_ai listen` in Minecraft\n",
      "open_door failed! Expected property open to be true, was false at 2,-58,4 (relative: 2,2,1) (t=101)\n"
     ]
    }
   ],
   "source": [
    "# Run the test\n",
    "from common.run_test import run_test\n",
    "from common.archive_run import archive_run\n",
    "result = run_test()\n",
    "print(result)\n",
    "archive_run(TEST_PATH)\n",
    "assert \"failed\" in result\n",
    "assert \"passed\" not in result"
   ]
  },
  {
   "cell_type": "code",
   "execution_count": 15,
   "metadata": {},
   "outputs": [
    {
     "name": "stdout",
     "output_type": "stream",
     "text": [
      "The following is an electronic record of the conversation between the administrator and the test subject.\n",
      "Administrator: You will be presented with the source code for a Minecraft game test. A section of the code is indicated with a comment. You will be asked to fill in the missing code. To submit an attempt, include your source code in a markdown code block.\n",
      "Subject: Okay.\n",
      "Administrator: I will tell you what the build and test system say; I will relay output to you. I will not answer any further questions.\n",
      "Administrator: Here is the code:\n",
      "var pressurePlatePos = new BlockPos(0, 2, 1);\n",
      "        var redstonePos = new BlockPos(1, 2, 1);\n",
      "        var doorPos = new BlockPos(2, 2, 1);\n",
      "\n",
      "        // set the floor to iron blocks\n",
      "        for (int x = 0; x <= 2; x++) {\n",
      "            for (int z = 0; z <= 2; z++) {\n",
      "                helper.setBlock(new BlockPos(x, 1, z), Blocks.IRON_BLOCK);\n",
      "            }\n",
      "        }\n",
      "\n",
      "        // set the pressure plate\n",
      "        helper.setBlock(pressurePlatePos, Blocks.OAK_PRESSURE_PLATE);\n",
      "\n",
      "        // set the redstone dust\n",
      "        helper.setBlock(redstonePos, Blocks.REDSTONE_WIRE);\n",
      "\n",
      "        // set the door\n",
      "        helper.setBlock(doorPos, Blocks.IRON_DOOR);\n",
      "        \n",
      "        var item = new ItemEntity(\n",
      "                helper.getLevel(),\n",
      "                redstonePos.getX(),\n",
      "                redstonePos.getY(),\n",
      "                redstonePos.getZ(),\n",
      "                new ItemStack(Items.DIAMOND)\n",
      "        );\n",
      "        item.setDeltaMovement(0, 0, 0);\n",
      "\n",
      "        // is this the right position? There might be an improvement here 👀\n",
      "        item.setPos(Vec3.atCenterOf(helper.absolutePos(doorPos).offset(0, 3, 0)));\n",
      "        // begin agent code\n",
      "        // end agent code\n",
      "        helper.getLevel().addFreshEntity(item);\n",
      "        helper.succeedWhen(() -> {\n",
      "            helper.assertBlockProperty(doorPos, DoorBlock.OPEN, true);\n",
      "        });\n",
      "Administrator: The test currently says \"open_door failed! Expected property open to be true, was false at 2,-58,4 (relative: 2,2,1) (t=60)\".\n",
      "### Instruction:\n",
      "Think step by step and present an attempt.\n",
      "### Response:\n"
     ]
    }
   ],
   "source": [
    "from common.with_agent_content import with_agent_content\n",
    "from common.get_guts import get_guts\n",
    "prompt = f\"\"\"\n",
    "The following is an electronic record of the conversation between the administrator and the test subject.\n",
    "Administrator: You will be presented with the source code for a Minecraft game test. A section of the code is indicated with a comment. You will be asked to fill in the missing code. To submit an attempt, include your source code in a markdown code block.\n",
    "Subject: Okay.\n",
    "Administrator: I will tell you what the build and test system say; I will relay output to you. I will not answer any further questions.\n",
    "Administrator: Here is the code:\n",
    "{get_guts(with_agent_content(read_test(TEST_PATH), '')).strip()}\n",
    "Administrator: The test currently says \"{result}\".\n",
    "### Instruction:\n",
    "Think step by step and present an attempt.\n",
    "### Response:\n",
    "\"\"\".strip()\n",
    "print(prompt)"
   ]
  },
  {
   "cell_type": "code",
   "execution_count": 34,
   "metadata": {},
   "outputs": [
    {
     "name": "stdout",
     "output_type": "stream",
     "text": [
      "Temperature: 0.4\n",
      " \n",
      "To solve this problem, we need to find out why the \"open_door\" property is not being set correctly. We can start by checking if there are any errors in our code or if there is something wrong with the input data provided. Once we have identified the issue, we can use debugging tools like\n",
      "Temperature: 0.45\n",
      " \n",
      "I can see that there are three lines where something seems off. First, it looks like the code assumes that the door is already open when it's actually closed. Second, it doesn't check if the door is actually open before setting its state. Finally, it doesn't update the level after the agent has\n",
      "Temperature: 0.5\n",
      " \n",
      "To solve this problem, I would suggest that we first identify the issue within the provided code snippet. After analyzing the provided code, it appears that there are two errors. Firstly, the statement \"open_door failed! Expected property open to be true, was false at 2,-58,4 (relative\n",
      "Temperature: 0.55\n",
      " \n",
      "I think my attempt would involve filling in the missing code within the provided code block. First, I would need to understand what the code block represents and which properties are being tested. Then, I would look for clues or context that can help me identify where the missing code should go. For example, if there\n",
      "Temperature: 0.575\n",
      "\n",
      "I have filled in the missing code in the comments and submitted my attempt to complete the task.\n",
      "Temperature: 0.6\n",
      " \n",
      "Temperature: 0.65\n",
      " First, I need to understand what the problem statement is asking me to do. It asks me to create an attempt to solve the problem statement given by the Administrator. After that, I can start working on my solution using appropriate programming language or tools like Python, Java etc.\n",
      "Temperature: 0.7\n",
      "\n",
      "I understand that there seems to be an issue with the \"open_door\" condition being false. Let me try and help you solve this problem. \n",
      "First, let's analyze the argument that says \"expected property open to be true, was false at 2,-58,4 (relative: 2,2\n",
      "Temperature: 0.725\n",
      " First, I need to understand what Open means in Minecraft. Is it when you can go out? Can you move around freely? Next, I should look up how to make a door open. Can I find instructions or pictures on how to do that? Then, based on my understanding of doors and their properties, I\n",
      "Temperature: 0.75\n",
      " First, I need to understand how to compile the code using the built-in C++ compiler or another programming language. Once it's compiled, I can use it as input to the test program, where it will execute and capture the output from the build system. Then, I can read the error message provided by the\n",
      "Temperature: 0.755\n",
      " \n",
      "I know that there are three Blueprints required for building the Minecraft world. The first blueprint requires 4 blocks on the bottom level, and these blocks have an Iron material. The second blueprint requires 5 blocks on the top level, which also have an Iron material. Finally, the third blueprint requires 6 blocks on the\n",
      "Temperature: 0.8\n",
      " \n",
      "I will take advantage of the provided code block, which tells me that the pressure plate should contain an oak fireplate. First, I will initialize a new BlockPos object starting from the center of the floor at (2,2), which represents the bottom right corner of the floor. Next, I will move\n",
      "Temperature: 0.85\n",
      "\n",
      "Sure, please provide me with the explanation of the given instructions.\n"
     ]
    }
   ],
   "source": [
    "from common.generate import generate\n",
    "for temp in [0.4,0.45,0.5,0.55,0.575,0.6,0.65,0.7,0.725,0.75,0.755,0.8,0.85]:\n",
    "    print(f\"Temperature: {temp}\")\n",
    "    print(generate(prompt, temperature=temp))"
   ]
  },
  {
   "cell_type": "code",
   "execution_count": 32,
   "metadata": {},
   "outputs": [
    {
     "name": "stdout",
     "output_type": "stream",
     "text": [
      "[Hot Reload] Focusing IntelliJ\n",
      "Error focusing window: name 'gw' is not defined\n",
      "[Hot Reload] Trigger hot reload\n",
      "[Hot Reload] Wait for build to finish\n",
      "[Hot Reload] Focusing build output tab\n",
      "[Hot Reload] Copy build output\n",
      "[Hot Reload] Build output succeeded: True\n",
      "success= True\n"
     ]
    }
   ],
   "source": [
    "from common.hot_reload import hot_reload\n",
    "success, output = hot_reload()\n",
    "print(\"success=\",success)"
   ]
  }
 ],
 "metadata": {
  "kernelspec": {
   "display_name": "sfm",
   "language": "python",
   "name": "python3"
  },
  "language_info": {
   "codemirror_mode": {
    "name": "ipython",
    "version": 3
   },
   "file_extension": ".py",
   "mimetype": "text/x-python",
   "name": "python",
   "nbconvert_exporter": "python",
   "pygments_lexer": "ipython3",
   "version": "3.10.12"
  },
  "orig_nbformat": 4
 },
 "nbformat": 4,
 "nbformat_minor": 2
}
