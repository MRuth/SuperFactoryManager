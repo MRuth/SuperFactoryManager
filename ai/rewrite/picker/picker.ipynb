{
 "cells": [
  {
   "cell_type": "code",
   "execution_count": 24,
   "metadata": {},
   "outputs": [
    {
     "name": "stdout",
     "output_type": "stream",
     "text": [
      "684  337\n"
     ]
    }
   ],
   "source": [
    "from winsound import Beep\n",
    "import pyautogui\n",
    "import threading\n",
    "from time import sleep\n",
    "threading.Thread(target=Beep, args=(150, 1000)).start()\n",
    "threading.Thread(target=pyautogui.alert, args=(\"Click the element.\",)).start()\n",
    "# Beep(150, 1000)\n",
    "sleep(0.07)\n",
    "# release ctrl, alt, shift\n",
    "pyautogui.keyUp('ctrl')\n",
    "pyautogui.keyUp('alt')\n",
    "pyautogui.keyUp('shift')\n",
    "pyautogui.hotkey('alt', 'printscreen')\n",
    "# wait for mouse click\n",
    "# ???\n",
    "# get clipboard contents\n",
    "import pyperclip\n",
    "data = pyperclip.paste()\n",
    "x,y = data.split(\"\\n\")[-1].split(\",\")\n",
    "print(x,y)\n"
   ]
  },
  {
   "cell_type": "code",
   "execution_count": 27,
   "metadata": {},
   "outputs": [
    {
     "name": "stdout",
     "output_type": "stream",
     "text": [
      "Note: you may need to restart the kernel to use updated packages.\n"
     ]
    }
   ],
   "source": [
    "%pip install -q pynput"
   ]
  },
  {
   "cell_type": "code",
   "execution_count": 28,
   "metadata": {},
   "outputs": [
    {
     "name": "stdout",
     "output_type": "stream",
     "text": [
      "Mouse clicked at (725, 369) with button Button.left\n",
      "Mouse clicked at (751, 347) with button Button.left\n",
      "Mouse clicked at (877, 333) with button Button.left\n",
      "Mouse clicked at (894, 322) with button Button.left\n",
      "Mouse clicked at (894, 322) with button Button.left\n",
      "Mouse clicked at (894, 322) with button Button.left\n",
      "Mouse clicked at (894, 322) with button Button.left\n",
      "Mouse clicked at (894, 322) with button Button.left\n",
      "Mouse clicked at (367, 184) with button Button.left\n",
      "Mouse clicked at (-1039, 940) with button Button.left\n"
     ]
    }
   ],
   "source": [
    "from pynput import mouse\n",
    "\n",
    "def on_click(x, y, button, pressed):\n",
    "    if pressed:\n",
    "        print(f\"Mouse clicked at ({x}, {y}) with button {button}\")\n",
    "\n",
    "# Listen to mouse events\n",
    "with mouse.Listener(on_click=on_click) as listener:\n",
    "    listener.join()\n"
   ]
  },
  {
   "cell_type": "code",
   "execution_count": 3,
   "metadata": {},
   "outputs": [
    {
     "name": "stdout",
     "output_type": "stream",
     "text": [
      "Clicked at (344, 193)\n"
     ]
    }
   ],
   "source": [
    "class ClickListener:\n",
    "    def __init__(self):\n",
    "        import threading\n",
    "        self.event = threading.Event()\n",
    "        self.x, self.y = None, None\n",
    "\n",
    "    def on_click(self, x, y, button, pressed):\n",
    "        if pressed:\n",
    "            self.x, self.y = x, y\n",
    "            self.event.set()\n",
    "\n",
    "    def waitForClick(self):\n",
    "        from pynput import mouse\n",
    "        with mouse.Listener(on_click=self.on_click) as listener:\n",
    "            self.event.wait()  # Block until clicked\n",
    "            listener.stop()  # Stop the listener\n",
    "            \n",
    "        return self.x, self.y\n",
    "\n",
    "# Example usage\n",
    "click_listener = ClickListener()\n",
    "x, y = click_listener.waitForClick()\n",
    "print(f\"Clicked at ({x}, {y})\")\n"
   ]
  },
  {
   "cell_type": "code",
   "execution_count": 5,
   "metadata": {},
   "outputs": [
    {
     "name": "stdout",
     "output_type": "stream",
     "text": [
      "Clicked at (1021, 494)\n"
     ]
    }
   ],
   "source": [
    "from winsound import Beep\n",
    "import pyautogui\n",
    "import threading\n",
    "from time import sleep\n",
    "import pyperclip\n",
    "import keyboard  # Added this package for mouse event\n",
    "\n",
    "# Function to play a beep sound\n",
    "def play_beep():\n",
    "    Beep(150, 1000)\n",
    "\n",
    "# Function to show an alert\n",
    "def show_alert():\n",
    "    pyautogui.alert(\"Click the element.\")\n",
    "\n",
    "# Start the beep and alert in separate threads\n",
    "threading.Thread(target=play_beep).start()\n",
    "threading.Thread(target=show_alert).start()\n",
    "\n",
    "# Release ctrl, alt, shift keys\n",
    "pyautogui.keyUp('ctrl')\n",
    "pyautogui.keyUp('alt')\n",
    "pyautogui.keyUp('shift')\n",
    "\n",
    "# Capture the screen using Alt+PrintScreen\n",
    "pyautogui.hotkey('alt', 'printscreen')\n",
    "\n",
    "# Wait for a mouse click\n",
    "class ClickListener:\n",
    "    def __init__(self):\n",
    "        import threading\n",
    "        self.event = threading.Event()\n",
    "        self.x, self.y = None, None\n",
    "\n",
    "    def on_click(self, x, y, button, pressed):\n",
    "        if pressed:\n",
    "            self.x, self.y = x, y\n",
    "            self.event.set()\n",
    "\n",
    "    def waitForClick(self):\n",
    "        from pynput import mouse\n",
    "        with mouse.Listener(on_click=self.on_click) as listener:\n",
    "            self.event.wait()  # Block until clicked\n",
    "            listener.stop()  # Stop the listener\n",
    "            \n",
    "        return self.x, self.y\n",
    "\n",
    "click_listener = ClickListener()\n",
    "x, y = click_listener.waitForClick()\n",
    "print(f\"Clicked at ({x}, {y})\")\n",
    "\n",
    "# Get the element at the mouse click location"
   ]
  }
 ],
 "metadata": {
  "kernelspec": {
   "display_name": "sfm",
   "language": "python",
   "name": "python3"
  },
  "language_info": {
   "codemirror_mode": {
    "name": "ipython",
    "version": 3
   },
   "file_extension": ".py",
   "mimetype": "text/x-python",
   "name": "python",
   "nbconvert_exporter": "python",
   "pygments_lexer": "ipython3",
   "version": "3.10.12"
  },
  "orig_nbformat": 4
 },
 "nbformat": 4,
 "nbformat_minor": 2
}
