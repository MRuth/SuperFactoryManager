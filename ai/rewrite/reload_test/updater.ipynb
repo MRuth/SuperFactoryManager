{
 "cells": [
  {
   "cell_type": "code",
   "execution_count": 1,
   "metadata": {},
   "outputs": [
    {
     "ename": "KeyboardInterrupt",
     "evalue": "",
     "output_type": "error",
     "traceback": [
      "\u001b[1;31m---------------------------------------------------------------------------\u001b[0m",
      "\u001b[1;31mKeyboardInterrupt\u001b[0m                         Traceback (most recent call last)",
      "\u001b[1;32md:\\Repos\\Minecraft\\Forge\\SuperFactoryManager\\ai\\rewrite\\reload_test\\updater.ipynb Cell 1\u001b[0m line \u001b[0;36m9\n\u001b[0;32m      <a href='vscode-notebook-cell:/d%3A/Repos/Minecraft/Forge/SuperFactoryManager/ai/rewrite/reload_test/updater.ipynb#W0sZmlsZQ%3D%3D?line=6'>7</a>\u001b[0m     f\u001b[39m.\u001b[39mwrite(program)\n\u001b[0;32m      <a href='vscode-notebook-cell:/d%3A/Repos/Minecraft/Forge/SuperFactoryManager/ai/rewrite/reload_test/updater.ipynb#W0sZmlsZQ%3D%3D?line=7'>8</a>\u001b[0m i \u001b[39m+\u001b[39m\u001b[39m=\u001b[39m \u001b[39m1\u001b[39m\n\u001b[1;32m----> <a href='vscode-notebook-cell:/d%3A/Repos/Minecraft/Forge/SuperFactoryManager/ai/rewrite/reload_test/updater.ipynb#W0sZmlsZQ%3D%3D?line=8'>9</a>\u001b[0m sleep(\u001b[39m2\u001b[39;49m)\n",
      "\u001b[1;31mKeyboardInterrupt\u001b[0m: "
     ]
    }
   ],
   "source": [
    "from time import sleep\n",
    "i = 0\n",
    "while True:\n",
    "    with open(\"hotreload.py\",\"w\") as f:\n",
    "        program = \"def reload_test():\"\n",
    "        program += \"\\n    return \" + str(i)\n",
    "        f.write(program)\n",
    "    i += 1\n",
    "    sleep(2)"
   ]
  }
 ],
 "metadata": {
  "kernelspec": {
   "display_name": "sfm",
   "language": "python",
   "name": "python3"
  },
  "language_info": {
   "codemirror_mode": {
    "name": "ipython",
    "version": 3
   },
   "file_extension": ".py",
   "mimetype": "text/x-python",
   "name": "python",
   "nbconvert_exporter": "python",
   "pygments_lexer": "ipython3",
   "version": "3.10.12"
  },
  "orig_nbformat": 4
 },
 "nbformat": 4,
 "nbformat_minor": 2
}
