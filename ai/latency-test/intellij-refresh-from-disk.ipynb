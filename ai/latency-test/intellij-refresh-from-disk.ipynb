{
 "cells": [
  {
   "cell_type": "code",
   "execution_count": null,
   "metadata": {},
   "outputs": [],
   "source": []
  },
  {
   "cell_type": "code",
   "execution_count": 24,
   "metadata": {},
   "outputs": [],
   "source": [
    "def focus_intellij():\n",
    "    import pygetwindow as gw\n",
    "    def get_intellij_title():\n",
    "        title = next(x for x in gw.getAllTitles() if \"[SuperFactoryManager]\" in x)\n",
    "        return title\n",
    "    try:\n",
    "        windows = gw.getWindowsWithTitle(get_intellij_title())\n",
    "        assert len(windows) > 0, f\"Window not found: {get_intellij_title()}\"\n",
    "        windows[0].activate()\n",
    "    except Exception as e:\n",
    "        print(f\"Error focusing window: {e}\")"
   ]
  },
  {
   "cell_type": "code",
   "execution_count": 25,
   "metadata": {},
   "outputs": [],
   "source": [
    "def reload_from_disk():\n",
    "    # Ctrl+Alt+Y hotkey\n",
    "    import pyautogui\n",
    "    pyautogui.hotkey('ctrl', 'alt', 'y')"
   ]
  },
  {
   "cell_type": "code",
   "execution_count": 28,
   "metadata": {},
   "outputs": [
    {
     "name": "stderr",
     "output_type": "stream",
     "text": [
      "  9%|▉         | 45/500 [00:14<02:28,  3.07it/s]\n"
     ]
    },
    {
     "ename": "KeyboardInterrupt",
     "evalue": "",
     "output_type": "error",
     "traceback": [
      "\u001b[1;31m---------------------------------------------------------------------------\u001b[0m",
      "\u001b[1;31mKeyboardInterrupt\u001b[0m                         Traceback (most recent call last)",
      "\u001b[1;32md:\\Repos\\Minecraft\\Forge\\SuperFactoryManager\\ai\\latency-test\\wait-for-condition.ipynb Cell 4\u001b[0m line \u001b[0;36m5\n\u001b[0;32m      <a href='vscode-notebook-cell:/d%3A/Repos/Minecraft/Forge/SuperFactoryManager/ai/latency-test/wait-for-condition.ipynb#W1sZmlsZQ%3D%3D?line=2'>3</a>\u001b[0m \u001b[39mfor\u001b[39;00m i \u001b[39min\u001b[39;00m trange(\u001b[39m500\u001b[39m):\n\u001b[0;32m      <a href='vscode-notebook-cell:/d%3A/Repos/Minecraft/Forge/SuperFactoryManager/ai/latency-test/wait-for-condition.ipynb#W1sZmlsZQ%3D%3D?line=3'>4</a>\u001b[0m     focus_intellij()\n\u001b[1;32m----> <a href='vscode-notebook-cell:/d%3A/Repos/Minecraft/Forge/SuperFactoryManager/ai/latency-test/wait-for-condition.ipynb#W1sZmlsZQ%3D%3D?line=4'>5</a>\u001b[0m     reload_from_disk()\n\u001b[0;32m      <a href='vscode-notebook-cell:/d%3A/Repos/Minecraft/Forge/SuperFactoryManager/ai/latency-test/wait-for-condition.ipynb#W1sZmlsZQ%3D%3D?line=5'>6</a>\u001b[0m     sleep(\u001b[39m0.2\u001b[39m)\n",
      "\u001b[1;32md:\\Repos\\Minecraft\\Forge\\SuperFactoryManager\\ai\\latency-test\\wait-for-condition.ipynb Cell 4\u001b[0m line \u001b[0;36m4\n\u001b[0;32m      <a href='vscode-notebook-cell:/d%3A/Repos/Minecraft/Forge/SuperFactoryManager/ai/latency-test/wait-for-condition.ipynb#W1sZmlsZQ%3D%3D?line=0'>1</a>\u001b[0m \u001b[39mdef\u001b[39;00m \u001b[39mreload_from_disk\u001b[39m():\n\u001b[0;32m      <a href='vscode-notebook-cell:/d%3A/Repos/Minecraft/Forge/SuperFactoryManager/ai/latency-test/wait-for-condition.ipynb#W1sZmlsZQ%3D%3D?line=1'>2</a>\u001b[0m     \u001b[39m# Ctrl+Alt+Y hotkey\u001b[39;00m\n\u001b[0;32m      <a href='vscode-notebook-cell:/d%3A/Repos/Minecraft/Forge/SuperFactoryManager/ai/latency-test/wait-for-condition.ipynb#W1sZmlsZQ%3D%3D?line=2'>3</a>\u001b[0m     \u001b[39mimport\u001b[39;00m \u001b[39mpyautogui\u001b[39;00m\n\u001b[1;32m----> <a href='vscode-notebook-cell:/d%3A/Repos/Minecraft/Forge/SuperFactoryManager/ai/latency-test/wait-for-condition.ipynb#W1sZmlsZQ%3D%3D?line=3'>4</a>\u001b[0m     pyautogui\u001b[39m.\u001b[39;49mhotkey(\u001b[39m'\u001b[39;49m\u001b[39mctrl\u001b[39;49m\u001b[39m'\u001b[39;49m, \u001b[39m'\u001b[39;49m\u001b[39malt\u001b[39;49m\u001b[39m'\u001b[39;49m, \u001b[39m'\u001b[39;49m\u001b[39my\u001b[39;49m\u001b[39m'\u001b[39;49m)\n",
      "File \u001b[1;32mc:\\Users\\TeamD\\.conda\\envs\\sfm\\lib\\site-packages\\pyautogui\\__init__.py:595\u001b[0m, in \u001b[0;36m_genericPyAutoGUIChecks.<locals>.wrapper\u001b[1;34m(*args, **kwargs)\u001b[0m\n\u001b[0;32m    593\u001b[0m failSafeCheck()\n\u001b[0;32m    594\u001b[0m returnVal \u001b[39m=\u001b[39m wrappedFunction(\u001b[39m*\u001b[39margs, \u001b[39m*\u001b[39m\u001b[39m*\u001b[39mkwargs)\n\u001b[1;32m--> 595\u001b[0m _handlePause(kwargs\u001b[39m.\u001b[39;49mget(\u001b[39m\"\u001b[39;49m\u001b[39m_pause\u001b[39;49m\u001b[39m\"\u001b[39;49m, \u001b[39mTrue\u001b[39;49;00m))\n\u001b[0;32m    596\u001b[0m \u001b[39mreturn\u001b[39;00m returnVal\n",
      "File \u001b[1;32mc:\\Users\\TeamD\\.conda\\envs\\sfm\\lib\\site-packages\\pyautogui\\__init__.py:639\u001b[0m, in \u001b[0;36m_handlePause\u001b[1;34m(_pause)\u001b[0m\n\u001b[0;32m    637\u001b[0m \u001b[39mif\u001b[39;00m _pause:\n\u001b[0;32m    638\u001b[0m     \u001b[39massert\u001b[39;00m \u001b[39misinstance\u001b[39m(PAUSE, \u001b[39mint\u001b[39m) \u001b[39mor\u001b[39;00m \u001b[39misinstance\u001b[39m(PAUSE, \u001b[39mfloat\u001b[39m)\n\u001b[1;32m--> 639\u001b[0m     time\u001b[39m.\u001b[39;49msleep(PAUSE)\n",
      "\u001b[1;31mKeyboardInterrupt\u001b[0m: "
     ]
    }
   ],
   "source": [
    "from time import sleep\n",
    "from tqdm import trange\n",
    "for i in trange(500):\n",
    "    focus_intellij()\n",
    "    reload_from_disk()\n",
    "    sleep(0.2)"
   ]
  },
  {
   "cell_type": "code",
   "execution_count": 29,
   "metadata": {},
   "outputs": [],
   "source": [
    "def ask_user_question(question: str) -> str:\n",
    "    question_content = f\"You have been asked: {question}\"\n",
    "    # the user will give a text response\n",
    "    \n",
    "ask_user_question(\"u ok\")"
   ]
  }
 ],
 "metadata": {
  "kernelspec": {
   "display_name": "sfm",
   "language": "python",
   "name": "python3"
  },
  "language_info": {
   "codemirror_mode": {
    "name": "ipython",
    "version": 3
   },
   "file_extension": ".py",
   "mimetype": "text/x-python",
   "name": "python",
   "nbconvert_exporter": "python",
   "pygments_lexer": "ipython3",
   "version": "3.10.12"
  },
  "orig_nbformat": 4
 },
 "nbformat": 4,
 "nbformat_minor": 2
}
