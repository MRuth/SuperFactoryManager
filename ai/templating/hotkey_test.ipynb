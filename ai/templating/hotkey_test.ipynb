{
 "cells": [
  {
   "cell_type": "code",
   "execution_count": 2,
   "metadata": {},
   "outputs": [
    {
     "name": "stdout",
     "output_type": "stream",
     "text": [
      "Requirement already satisfied: pyautogui in c:\\users\\teamd\\.conda\\envs\\sfm\\lib\\site-packages (0.9.54)\n",
      "Requirement already satisfied: pygetwindow in c:\\users\\teamd\\.conda\\envs\\sfm\\lib\\site-packages (0.0.9)\n",
      "Requirement already satisfied: pyperclip in c:\\users\\teamd\\.conda\\envs\\sfm\\lib\\site-packages (1.8.2)\n",
      "Requirement already satisfied: pymsgbox in c:\\users\\teamd\\.conda\\envs\\sfm\\lib\\site-packages (from pyautogui) (1.0.9)\n",
      "Requirement already satisfied: pytweening>=1.0.4 in c:\\users\\teamd\\.conda\\envs\\sfm\\lib\\site-packages (from pyautogui) (1.0.7)\n",
      "Requirement already satisfied: pyscreeze>=0.1.21 in c:\\users\\teamd\\.conda\\envs\\sfm\\lib\\site-packages (from pyautogui) (0.1.29)\n",
      "Requirement already satisfied: mouseinfo in c:\\users\\teamd\\.conda\\envs\\sfm\\lib\\site-packages (from pyautogui) (0.1.3)\n",
      "Requirement already satisfied: pyrect in c:\\users\\teamd\\.conda\\envs\\sfm\\lib\\site-packages (from pygetwindow) (0.2.0)\n",
      "Requirement already satisfied: pyscreenshot in c:\\users\\teamd\\.conda\\envs\\sfm\\lib\\site-packages (from pyscreeze>=0.1.21->pyautogui) (3.1)\n",
      "Requirement already satisfied: Pillow>=9.2.0 in c:\\users\\teamd\\.conda\\envs\\sfm\\lib\\site-packages (from pyscreeze>=0.1.21->pyautogui) (9.3.0)\n",
      "Requirement already satisfied: EasyProcess in c:\\users\\teamd\\.conda\\envs\\sfm\\lib\\site-packages (from pyscreenshot->pyscreeze>=0.1.21->pyautogui) (1.1)\n",
      "Requirement already satisfied: entrypoint2 in c:\\users\\teamd\\.conda\\envs\\sfm\\lib\\site-packages (from pyscreenshot->pyscreeze>=0.1.21->pyautogui) (1.1)\n",
      "Requirement already satisfied: mss in c:\\users\\teamd\\.conda\\envs\\sfm\\lib\\site-packages (from pyscreenshot->pyscreeze>=0.1.21->pyautogui) (9.0.1)\n",
      "Note: you may need to restart the kernel to use updated packages.\n"
     ]
    }
   ],
   "source": [
    "%pip install pyautogui pygetwindow pyperclip"
   ]
  },
  {
   "cell_type": "code",
   "execution_count": 3,
   "metadata": {},
   "outputs": [],
   "source": [
    "import pyautogui\n",
    "import pygetwindow as gw\n",
    "from time import sleep\n",
    "import pyperclip\n"
   ]
  },
  {
   "cell_type": "code",
   "execution_count": 4,
   "metadata": {},
   "outputs": [],
   "source": [
    "def focus_intellij():\n",
    "    try:\n",
    "        title = next(x for x in gw.getAllTitles() if \"TestChambers.java\" in x)\n",
    "        windows = gw.getWindowsWithTitle(title)\n",
    "        assert len(windows) > 0, f\"Window not found: {title}\"\n",
    "        windows[0].activate()\n",
    "    except Exception as e:\n",
    "        print(f\"Error focusing window: {e}\")"
   ]
  },
  {
   "cell_type": "code",
   "execution_count": 5,
   "metadata": {},
   "outputs": [],
   "source": [
    "def is_building():\n",
    "    return pyautogui.pixel(1947, 622) == (95, 173, 101)"
   ]
  },
  {
   "cell_type": "code",
   "execution_count": 10,
   "metadata": {},
   "outputs": [
    {
     "data": {
      "text/plain": [
       "\"def get_build_output():\\n    # click and drag from 2890, 638 to 2895, 638 to select text without activating links\\n    pyautogui.moveTo(2890, 638)\\n    pyautogui.mouseDown()\\n    pyautogui.moveTo(2895, 638)\\n    pyautogui.mouseUp()\\n    pyautogui.hotkey('ctrl', 'a')\\n    pyautogui.hotkey('ctrl', 'c')\\n    return pyperclip.paste().replace('\\\\r', '')\\nget_build_output()\""
      ]
     },
     "execution_count": 10,
     "metadata": {},
     "output_type": "execute_result"
    }
   ],
   "source": [
    "def get_build_output():\n",
    "    # click and drag from 2890, 638 to 2895, 638 to select text without activating links\n",
    "    pyautogui.moveTo(2890, 638)\n",
    "    pyautogui.mouseDown()\n",
    "    pyautogui.moveTo(2895, 638)\n",
    "    pyautogui.mouseUp()\n",
    "    pyautogui.hotkey('ctrl', 'a')\n",
    "    pyautogui.hotkey('ctrl', 'c')\n",
    "    return pyperclip.paste().replace('\\r', '')\n",
    "get_build_output()"
   ]
  },
  {
   "cell_type": "code",
   "execution_count": 7,
   "metadata": {},
   "outputs": [
    {
     "data": {
      "text/plain": [
       "False"
      ]
     },
     "execution_count": 7,
     "metadata": {},
     "output_type": "execute_result"
    }
   ],
   "source": [
    "def is_happy_build_output(output):\n",
    "    happy = \"\"\"\n",
    "Executing pre-compile tasks…\n",
    "Running 'before' tasks\n",
    "Checking sources\n",
    "Running 'after' tasks\n",
    "Finished, saving caches…\n",
    "Executing post-compile tasks…\n",
    "Finished, saving caches…\n",
    "    \"\"\".strip()\n",
    "    return output.strip() == happy\n",
    "is_happy_build_output(get_build_output())"
   ]
  },
  {
   "cell_type": "code",
   "execution_count": 9,
   "metadata": {},
   "outputs": [
    {
     "name": "stdout",
     "output_type": "stream",
     "text": [
      "Focusing IntelliJ\n",
      "Trigger hot reload\n",
      "Wait for build to finish\n",
      "Copy build output\n",
      "Output:\n",
      "Running 'after' tasks\n",
      "\n"
     ]
    }
   ],
   "source": [
    "def hot_reload():\n",
    "    print(\"Focusing IntelliJ\")\n",
    "    focus_intellij()\n",
    "    print(\"Trigger hot reload\")\n",
    "    pyautogui.hotkey('ctrl', 'alt', 'num0')\n",
    "    print(\"Wait for build to finish\")\n",
    "    while is_building():\n",
    "        sleep(0.1)\n",
    "    print(\"Copy build output\")\n",
    "    output = get_build_output()\n",
    "    print(\"Output:\")\n",
    "    print(output)\n",
    "\n",
    "# Call the function to perform the hot reload\n",
    "hot_reload()\n"
   ]
  },
  {
   "cell_type": "markdown",
   "metadata": {},
   "source": [
    "```\n",
    "Focusing IntelliJ\n",
    "Trigger hot reload\n",
    "Wait for build to finish\n",
    "Copy build output\n",
    "Output:\n",
    "D:\\Repos\\Minecraft\\Forge\\SuperFactoryManager\\src\\gametest\\java\\ca\\teamdman\\sfm\\ai\\TestChambers.java:96: error: cannot find symbol\n",
    "            helper.clickBlock(pressurePlatePos);\n",
    "                  ^\n",
    "  symbol:   method clickBlock(BlockPos)\n",
    "  location: variable helper of type GameTestHelper\n",
    "```"
   ]
  }
 ],
 "metadata": {
  "kernelspec": {
   "display_name": "sfm",
   "language": "python",
   "name": "python3"
  },
  "language_info": {
   "codemirror_mode": {
    "name": "ipython",
    "version": 3
   },
   "file_extension": ".py",
   "mimetype": "text/x-python",
   "name": "python",
   "nbconvert_exporter": "python",
   "pygments_lexer": "ipython3",
   "version": "3.10.12"
  },
  "orig_nbformat": 4
 },
 "nbformat": 4,
 "nbformat_minor": 2
}
