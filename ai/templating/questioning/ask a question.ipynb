{
 "cells": [
  {
   "cell_type": "code",
   "execution_count": 2,
   "metadata": {},
   "outputs": [
    {
     "name": "stdout",
     "output_type": "stream",
     "text": [
      "Collecting keyboard\n",
      "  Downloading keyboard-0.13.5-py3-none-any.whl (58 kB)\n",
      "     ---------------------------------------- 0.0/58.1 kB ? eta -:--:--\n",
      "     ------- -------------------------------- 10.2/58.1 kB ? eta -:--:--\n",
      "     -------------------- ----------------- 30.7/58.1 kB 435.7 kB/s eta 0:00:01\n",
      "     -------------------------------------- 58.1/58.1 kB 613.6 kB/s eta 0:00:00\n",
      "Installing collected packages: keyboard\n",
      "Successfully installed keyboard-0.13.5\n",
      "Note: you may need to restart the kernel to use updated packages.\n"
     ]
    }
   ],
   "source": [
    "%pip install keyboard"
   ]
  },
  {
   "cell_type": "code",
   "execution_count": 3,
   "metadata": {},
   "outputs": [
    {
     "name": "stdout",
     "output_type": "stream",
     "text": [
      "response: Is it a good idea to train AI to kill cows in Minecraft\n",
      "A. Yes\n",
      "B. No\n"
     ]
    }
   ],
   "source": [
    "from datetime import datetime\n",
    "from pathlib import Path\n",
    "import keyboard\n",
    "from time import sleep\n",
    "\n",
    "questions_path = Path(\"questions\")\n",
    "questions_path.mkdir(exist_ok=True)\n",
    "\n",
    "def ask_question():\n",
    "    def on_enter(e):\n",
    "        global enter_pressed\n",
    "        enter_pressed = True\n",
    "\n",
    "    keyboard.on_press_key(\"enter\", on_enter)\n",
    "\n",
    "    timestamp = datetime.now().strftime(\"%Y-%m-%d-%H-%M-%S\")\n",
    "    file_path = questions_path / f\"{timestamp}.txt\"\n",
    "    question = \"\"\"Is it a good idea to train AI to kill cows in Minecraft\n",
    "A. Yes\n",
    "B. No\"\"\"\n",
    "    with open(file_path, \"w\") as file:\n",
    "        file.write(question)\n",
    "    \n",
    "    global enter_pressed\n",
    "    enter_pressed = False\n",
    "    while not enter_pressed:\n",
    "        sleep(0.1)  # Wait for the question to be answered\n",
    "\n",
    "    # Here, you can read the file to get the selected option\n",
    "    with open(file_path, \"r\") as file:\n",
    "        response = file.read()\n",
    "    \n",
    "    return response\n",
    "\n",
    "response = ask_question()\n",
    "print(f\"response: {response}\")\n"
   ]
  },
  {
   "cell_type": "code",
   "execution_count": null,
   "metadata": {},
   "outputs": [],
   "source": []
  },
  {
   "cell_type": "code",
   "execution_count": 17,
   "metadata": {},
   "outputs": [],
   "source": [
    "clipboardStack = []\n",
    "def push_clipboard(contents):\n",
    "    import pyperclip\n",
    "    global clipboardStack\n",
    "    clipboardStack.append(pyperclip.paste())\n",
    "    if contents is not None:\n",
    "        pyperclip.copy(contents)\n",
    "def pop_clipboard():\n",
    "    import pyperclip\n",
    "    global clipboardStack\n",
    "    pyperclip.copy(clipboardStack.pop())"
   ]
  },
  {
   "cell_type": "code",
   "execution_count": 65,
   "metadata": {},
   "outputs": [
    {
     "name": "stdout",
     "output_type": "stream",
     "text": [
      "response: \n"
     ]
    }
   ],
   "source": [
    "from datetime import datetime\n",
    "from pathlib import Path\n",
    "import keyboard\n",
    "from time import sleep\n",
    "\n",
    "questions_path = Path(\"questions\")\n",
    "questions_path.mkdir(exist_ok=True)\n",
    "\n",
    "def ask_question():\n",
    "    def on_enter(e):\n",
    "        global enter_pressed\n",
    "        enter_pressed = True\n",
    "    keyboard.on_press_key(\"enter\", on_enter)\n",
    "\n",
    "    timestamp = datetime.now().strftime(\"%Y-%m-%d-%H-%M-%S\")\n",
    "    file_path = questions_path / f\"{timestamp}.txt\"\n",
    "    question = \"\"\"Is it a good idea to train AI to kill cows in Minecraft? Press enter to confirm.\n",
    "1. Yes\n",
    "2. No\n",
    "    \"\"\"\n",
    "    with open(file_path, \"w\") as file:\n",
    "        file.write(question)\n",
    "\n",
    "\n",
    "    def get_intellij_title():\n",
    "        import pygetwindow as gw\n",
    "        titles = gw.getAllTitles()\n",
    "        # print(f\"Looking for IntelliJ window by title\")\n",
    "        # from pprint import pprint\n",
    "        # pprint(titles)\n",
    "        title = next(x for x in titles if \"SuperFactoryManager\" in x)\n",
    "        return title\n",
    "\n",
    "    def focus_intellij():\n",
    "        import pygetwindow as gw\n",
    "        try:\n",
    "            windows = gw.getWindowsWithTitle(get_intellij_title())\n",
    "            assert len(windows) > 0, f\"Window not found: {get_intellij_title()}\"\n",
    "            windows[0].activate()\n",
    "        except Exception as e:\n",
    "            print(f\"Error focusing window: {e}\")\n",
    "    focus_intellij()\n",
    "    \n",
    "    # sleep(0.5)\n",
    "    def open_file(path):\n",
    "        import pyautogui\n",
    "        push_clipboard(path)\n",
    "        pyautogui.hotkey('ctrl', 'shift', 'o')\n",
    "        from time import sleep\n",
    "        sleep(0.4)\n",
    "        pyautogui.hotkey('ctrl', 'v')\n",
    "        sleep(1)\n",
    "        pyautogui.press('enter')\n",
    "        pop_clipboard()\n",
    "    open_file(str(file_path.absolute()))\n",
    "    # sleep(0.5)\n",
    "\n",
    "    def reload_from_disk():\n",
    "        # Ctrl+Alt+Y hotkey\n",
    "        import pyautogui\n",
    "        pyautogui.hotkey('ctrl', 'alt', 'y')\n",
    "    reload_from_disk()\n",
    "\n",
    "    # position cursor at the end of the word \"Yes\" by typing Ctrl+G then line number and column number\n",
    "    import pyautogui\n",
    "    pyautogui.hotkey('ctrl', 'g')\n",
    "    pyautogui.write('2:7')\n",
    "    pyautogui.press('enter')    \n",
    "    sleep(0.1)\n",
    "    \n",
    "    global enter_pressed\n",
    "    enter_pressed = False\n",
    "    while not enter_pressed:\n",
    "        sleep(0.1)  # Wait for the question to be answered\n",
    "\n",
    "    # get the answer by backspace to undo the enter, then shift-ctrl-leftarrow to select the line, then ctrl-c to copy\n",
    "    push_clipboard(None)\n",
    "    pyautogui.press('backspace')\n",
    "    pyautogui.hotkey(\"ctrl\",\"left\")\n",
    "    pyautogui.hotkey('shift', 'ctrl', 'right')\n",
    "    pyautogui.hotkey('ctrl', 'c')\n",
    "    import pyperclip\n",
    "    response = pyperclip.paste()\n",
    "    pop_clipboard()\n",
    "\n",
    "    # close the tab we opened\n",
    "    pyautogui.hotkey('ctrl', 'f4')\n",
    "\n",
    "    return response\n",
    "\n",
    "response = ask_question()\n",
    "print(f\"response: {response}\")\n"
   ]
  }
 ],
 "metadata": {
  "kernelspec": {
   "display_name": "sfm",
   "language": "python",
   "name": "python3"
  },
  "language_info": {
   "codemirror_mode": {
    "name": "ipython",
    "version": 3
   },
   "file_extension": ".py",
   "mimetype": "text/x-python",
   "name": "python",
   "nbconvert_exporter": "python",
   "pygments_lexer": "ipython3",
   "version": "3.10.12"
  },
  "orig_nbformat": 4
 },
 "nbformat": 4,
 "nbformat_minor": 2
}
