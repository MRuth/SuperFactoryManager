{
 "cells": [
  {
   "cell_type": "code",
   "execution_count": 32,
   "metadata": {},
   "outputs": [
    {
     "data": {
      "text/plain": [
       "'package ca.teamdman.sfm.ai;\\n\\nimport ca.teamdman.sfm.SFM;\\nimport ca.teamdman.sfm.SFMGameTestBase;\\nimport net.minecraft.core.BlockPos;\\nimport net.minecraft.gametest.framework.GameTest;\\nimport net.minecraft.gametest.framework.GameTestHelper;\\nimport net.minecraft.world.entity.item.ItemEntity;\\nimport net.minecraft.world.item.ItemStack;\\nimport net.minecraft.world.item.Items;\\nimport net.minecraft.world.level.block.Blocks;\\nimport net.minecraft.world.level.block.DoorBlock;\\nimport net.minecraft.world.phys.Vec3;\\nimport net.minecraftforge.gametest.GameTestHolder;\\nimport net.minecraftforge.gametest.PrefixGameTestTemplate;\\n\\n@GameTestHolder(SFM.MOD_ID)\\n@PrefixGameTestTemplate(false)\\npublic class TestChambers extends SFMGameTestBase {\\n    /**\\n     * The agent must make the test case pass.\\n     * The agent is provided code at the beginning and the end of the test case.\\n     */\\n    @GameTest(template = \"3x4x3\")\\n    public static void open_door(GameTestHelper helper) {\\n        // begin test prefix\\n        // This test case presents a wooden pressure plate, a redstone dust, and a door\\n        // The test passes when the door is detected as open\\n        // The code in the test prefix is the programmatic creation of the redstone, dust, door, and floor\\n        // The code in the test suffix is a test assertion that the blockstate of the door is open\\n        var pressurePlatePos = new BlockPos(0, 2, 1);\\n        var redstonePos = new BlockPos(1, 2, 1);\\n        var doorPos = new BlockPos(2, 2, 1);\\n\\n        // set the floor to iron blocks\\n        for (int x = 0; x <= 2; x++) {\\n            for (int z = 0; z <= 2; z++) {\\n                helper.setBlock(new BlockPos(x, 1, z), Blocks.IRON_BLOCK);\\n            }\\n        }\\n\\n        // set the pressure plate\\n        helper.setBlock(pressurePlatePos, Blocks.OAK_PRESSURE_PLATE);\\n\\n        // set the redstone dust\\n        helper.setBlock(redstonePos, Blocks.REDSTONE_WIRE);\\n\\n        // set the door\\n        helper.setBlock(doorPos, Blocks.IRON_DOOR);\\n\\n\\n        var item = new ItemEntity(\\n                helper.getLevel(),\\n                redstonePos.getX(),\\n                redstonePos.getY(),\\n                redstonePos.getZ(),\\n                new ItemStack(Items.DIAMOND)\\n        );\\n        item.setDeltaMovement(0, 0, 0);\\n\\n        // did we place the diamond above the correct block?\\n        item.setPos(Vec3.atCenterOf(helper.absolutePos(doorPos).offset(0, 3, 0)));\\n        // end test prefix\\n\\n        // begin agent code\\n            // begin agent code\\n            var torchPos = new BlockPos(2, 3, 1);\\n            helper.setBlock(torchPos, Blocks.REDSTONE_TORCH);\\n            // end agent code\\n        // end agent code\\n\\n        // begin test suffix\\n        helper.getLevel().addFreshEntity(item);\\n        // succeed as soon as possible\\n        helper.succeedWhen(() -> {\\n            helper.assertBlockProperty(doorPos, DoorBlock.OPEN, true);\\n        });\\n        // shorten the timeout to 3 ticks\\n        helper.runAfterDelay(60, () -> {\\n            helper.assertBlockProperty(doorPos, DoorBlock.OPEN, true);\\n            helper.succeed();\\n        });\\n        // end test suffix\\n    }\\n}\\n'"
      ]
     },
     "execution_count": 32,
     "metadata": {},
     "output_type": "execute_result"
    }
   ],
   "source": [
    "def read_test():\n",
    "    path = r\"D:\\Repos\\Minecraft\\Forge\\SuperFactoryManager\\src\\gametest\\java\\ca\\teamdman\\sfm\\ai\\TestChambers.java\"\n",
    "    with open(path, \"r\") as f:\n",
    "        return f.read()\n",
    "read_test()"
   ]
  },
  {
   "cell_type": "code",
   "execution_count": 33,
   "metadata": {},
   "outputs": [],
   "source": [
    "def write_test(content: str):\n",
    "    path = r\"D:\\Repos\\Minecraft\\Forge\\SuperFactoryManager\\src\\gametest\\java\\ca\\teamdman\\sfm\\ai\\TestChambers.java\"\n",
    "    with open(path, \"w\") as f:\n",
    "        f.write(content)"
   ]
  },
  {
   "cell_type": "code",
   "execution_count": 34,
   "metadata": {},
   "outputs": [
    {
     "name": "stdout",
     "output_type": "stream",
     "text": [
      "        a\n",
      "        b\n",
      "        c\n"
     ]
    }
   ],
   "source": [
    "def indent_text(text, spaces=4):\n",
    "    space_str = \" \" * spaces\n",
    "    return \"\\n\".join(f\"{space_str}{line}\" for line in text.split(\"\\n\"))\n",
    "print(indent_text(\"a\\nb\\nc\",8))"
   ]
  },
  {
   "cell_type": "code",
   "execution_count": 55,
   "metadata": {},
   "outputs": [],
   "source": [
    "def with_agent_content(test: str, new_content: str) -> str:\n",
    "    \"\"\"\n",
    "    We want to remove any previous attempts at the test\n",
    "\n",
    "    // begin agent code\n",
    "    item.setPos(Vec3.atCenterOf(helper.absolutePos(pressurePlatePos).offset(0,3,0)));\n",
    "    // end agent code\n",
    "\n",
    "    should remove the content between the two comments\n",
    "    \"\"\"\n",
    "    region_start = \"        // begin agent code\"\n",
    "    region_end = \"        // end agent code\"\n",
    "    start = test.find(region_start)\n",
    "    end = test.find(region_end)\n",
    "    return test[:start+len(region_start)] + \"\\n\" + new_content + (\"\\n\" if new_content != \"\" else \"\") + test[end:]"
   ]
  },
  {
   "cell_type": "code",
   "execution_count": 36,
   "metadata": {},
   "outputs": [],
   "source": [
    "def get_agent_content(test: str) -> str:\n",
    "    region_start = \"        // begin agent code\"\n",
    "    region_end = \"        // end agent code\"\n",
    "    start = test.find(region_start)\n",
    "    end = test.find(region_end)\n",
    "    return test[start+len(region_start)+1:end]"
   ]
  },
  {
   "cell_type": "code",
   "execution_count": 37,
   "metadata": {},
   "outputs": [],
   "source": [
    "def focus_intellij():\n",
    "    import pygetwindow as gw\n",
    "    try:\n",
    "        title = next(x for x in gw.getAllTitles() if \"TestChambers.java\" in x)\n",
    "        windows = gw.getWindowsWithTitle(title)\n",
    "        assert len(windows) > 0, f\"Window not found: {title}\"\n",
    "        windows[0].activate()\n",
    "    except Exception as e:\n",
    "        print(f\"Error focusing window: {e}\")"
   ]
  },
  {
   "cell_type": "code",
   "execution_count": 38,
   "metadata": {},
   "outputs": [],
   "source": [
    "def is_building():\n",
    "    import pyautogui\n",
    "    return pyautogui.pixel(1947, 622) == (95, 173, 101)"
   ]
  },
  {
   "cell_type": "code",
   "execution_count": 39,
   "metadata": {},
   "outputs": [],
   "source": [
    "def get_build_output():\n",
    "    import pyautogui\n",
    "    import pyperclip\n",
    "    # store cursor position\n",
    "    x, y = pyautogui.position()\n",
    "    # click and drag from 2890, 638 to 2895, 638 to select text without activating links\n",
    "    pyautogui.moveTo(2890, 638)\n",
    "    pyautogui.mouseDown()\n",
    "    pyautogui.moveTo(2895, 638)\n",
    "    pyautogui.mouseUp()\n",
    "    pyautogui.hotkey('ctrl', 'a')\n",
    "    pyautogui.hotkey('ctrl', 'c')\n",
    "    # restore cursor position\n",
    "    pyautogui.moveTo(x, y)\n",
    "    return pyperclip.paste().replace('\\r', '')"
   ]
  },
  {
   "cell_type": "code",
   "execution_count": 40,
   "metadata": {},
   "outputs": [],
   "source": [
    "def is_happy_build_output(output):\n",
    "    happy = \"\"\"\n",
    "Executing pre-compile tasks…\n",
    "Running 'before' tasks\n",
    "Checking sources\n",
    "Running 'after' tasks\n",
    "Finished, saving caches…\n",
    "Executing post-compile tasks…\n",
    "Finished, saving caches…\n",
    "    \"\"\".strip()\n",
    "    return output.strip() == happy"
   ]
  },
  {
   "cell_type": "code",
   "execution_count": 49,
   "metadata": {},
   "outputs": [],
   "source": [
    "def hot_reload():\n",
    "    import pyautogui\n",
    "    from time import sleep\n",
    "    print(\"[Hot Reload] Focusing IntelliJ\")\n",
    "    focus_intellij()\n",
    "    print(\"[Hot Reload] Trigger hot reload\")\n",
    "    pyautogui.hotkey('ctrl', 'alt', 'num0')\n",
    "    print(\"[Hot Reload] Wait for build to finish\")\n",
    "    while is_building():\n",
    "        sleep(0.1)\n",
    "    sleep(1.5)\n",
    "    print(\"[Hot Reload] Copy build output\")\n",
    "    output = get_build_output()\n",
    "    success = is_happy_build_output(output)\n",
    "    print(f\"[Hot Reload] Build output succeeded: {success}\")\n",
    "    return success, output"
   ]
  },
  {
   "cell_type": "code",
   "execution_count": null,
   "metadata": {},
   "outputs": [],
   "source": [
    "from pathlib import Path\n",
    "msgdir = Path(\"./messages\")\n",
    "msgdir.mkdir(parents=True, exist_ok=True)\n",
    "def run_test():\n",
    "    print(\"[Run Test] Running test, ensure you ran `/sfm_ai listen` in Minecraft\")\n",
    "    # touch messages/run.txt\n",
    "    (msgdir / \"run.txt\").touch()\n",
    "\n",
    "    from time import sleep\n",
    "    # wait for the file to have test results appended\n",
    "    while not (msgdir / \"run.txt\").stat().st_size > 0:\n",
    "        sleep(0.1)\n",
    "    \n",
    "    # read the file\n",
    "    with open(msgdir / \"run.txt\", \"r\") as f:\n",
    "        results = f.read()\n",
    "\n",
    "    archive_content = get_agent_content(read_test()) + \"\\n\\n\" + results\n",
    "    \n",
    "    # clean up the file by renaming it with the time\n",
    "    from datetime import datetime\n",
    "    now = datetime.now().strftime(\"%Y-%m-%d_%H-%M-%S\")\n",
    "    (msgdir / f\"run_{now}.txt\").write_text(archive_content)\n",
    "    (msgdir / \"run.txt\").unlink()\n",
    "\n",
    "    return results"
   ]
  },
  {
   "cell_type": "code",
   "execution_count": 10,
   "metadata": {},
   "outputs": [
    {
     "name": "stderr",
     "output_type": "stream",
     "text": [
      "c:\\Users\\TeamD\\.conda\\envs\\sfm\\lib\\site-packages\\tqdm\\auto.py:21: TqdmWarning: IProgress not found. Please update jupyter and ipywidgets. See https://ipywidgets.readthedocs.io/en/stable/user_install.html\n",
      "  from .autonotebook import tqdm as notebook_tqdm\n"
     ]
    },
    {
     "name": "stdout",
     "output_type": "stream",
     "text": [
      "CodeLlamaTokenizerFast(name_or_path='codellama/CodeLlama-13b-Instruct-hf', vocab_size=32016, model_max_length=1000000000000000019884624838656, is_fast=True, padding_side='left', truncation_side='right', special_tokens={'bos_token': AddedToken(\"<s>\", rstrip=False, lstrip=False, single_word=False, normalized=True), 'eos_token': AddedToken(\"</s>\", rstrip=False, lstrip=False, single_word=False, normalized=True), 'unk_token': AddedToken(\"<unk>\", rstrip=False, lstrip=False, single_word=False, normalized=True), 'additional_special_tokens': ['▁<PRE>', '▁<MID>', '▁<SUF>', '▁<EOT>']}, clean_up_tokenization_spaces=False)\n"
     ]
    }
   ],
   "source": [
    "from transformers import AutoTokenizer\n",
    "tokenizer = AutoTokenizer.from_pretrained(\"codellama/CodeLlama-13b-Instruct-hf\", device_map=\"auto\")\n",
    "print(tokenizer)"
   ]
  },
  {
   "cell_type": "code",
   "execution_count": 11,
   "metadata": {},
   "outputs": [
    {
     "name": "stdout",
     "output_type": "stream",
     "text": [
      "bin c:\\Users\\TeamD\\.conda\\envs\\sfm\\lib\\site-packages\\bitsandbytes\\libbitsandbytes_cuda118.dll\n"
     ]
    },
    {
     "name": "stderr",
     "output_type": "stream",
     "text": [
      "Loading checkpoint shards: 100%|██████████| 3/3 [01:27<00:00, 29.14s/it]\n"
     ]
    },
    {
     "name": "stdout",
     "output_type": "stream",
     "text": [
      "LlamaForCausalLM(\n",
      "  (model): LlamaModel(\n",
      "    (embed_tokens): Embedding(32016, 5120)\n",
      "    (layers): ModuleList(\n",
      "      (0-39): 40 x LlamaDecoderLayer(\n",
      "        (self_attn): LlamaAttention(\n",
      "          (q_proj): Linear8bitLt(in_features=5120, out_features=5120, bias=False)\n",
      "          (k_proj): Linear8bitLt(in_features=5120, out_features=5120, bias=False)\n",
      "          (v_proj): Linear8bitLt(in_features=5120, out_features=5120, bias=False)\n",
      "          (o_proj): Linear8bitLt(in_features=5120, out_features=5120, bias=False)\n",
      "          (rotary_emb): LlamaRotaryEmbedding()\n",
      "        )\n",
      "        (mlp): LlamaMLP(\n",
      "          (gate_proj): Linear8bitLt(in_features=5120, out_features=13824, bias=False)\n",
      "          (up_proj): Linear8bitLt(in_features=5120, out_features=13824, bias=False)\n",
      "          (down_proj): Linear8bitLt(in_features=13824, out_features=5120, bias=False)\n",
      "          (act_fn): SiLUActivation()\n",
      "        )\n",
      "        (input_layernorm): LlamaRMSNorm()\n",
      "        (post_attention_layernorm): LlamaRMSNorm()\n",
      "      )\n",
      "    )\n",
      "    (norm): LlamaRMSNorm()\n",
      "  )\n",
      "  (lm_head): Linear(in_features=5120, out_features=32016, bias=False)\n",
      ")\n"
     ]
    }
   ],
   "source": [
    "from transformers import AutoModelForCausalLM\n",
    "model = AutoModelForCausalLM.from_pretrained(\"codellama/CodeLlama-13b-Instruct-hf\", device_map=\"auto\", load_in_8bit=True)\n",
    "print(model)"
   ]
  },
  {
   "cell_type": "code",
   "execution_count": 12,
   "metadata": {},
   "outputs": [],
   "source": [
    "from transformers import pipeline\n",
    "pipe = pipeline(\n",
    "    \"text-generation\",\n",
    "    model=model,\n",
    "    tokenizer=tokenizer,\n",
    "    max_new_tokens=512,\n",
    "    temperature=0.7,\n",
    "    top_p=0.95,\n",
    "    repetition_penalty=1.15\n",
    ")"
   ]
  },
  {
   "cell_type": "code",
   "execution_count": 72,
   "metadata": {},
   "outputs": [
    {
     "name": "stdout",
     "output_type": "stream",
     "text": [
      "[Hot Reload] Focusing IntelliJ\n",
      "[Hot Reload] Trigger hot reload\n",
      "[Hot Reload] Wait for build to finish\n",
      "[Hot Reload] Copy build output\n",
      "[Hot Reload] Build output succeeded: True\n",
      "Success!\n",
      "[Run Test] Running test, ensure you ran `/sfm_ai listen` in Minecraft\n",
      "Test output: open_door failed! Expected property open to be true, was false at 2,-58,4 (relative: 2,2,1) (t=60)\n"
     ]
    }
   ],
   "source": [
    "# run the test without any agent code to see what the fail error is\n",
    "write_test(with_agent_content(read_test(), \"\"))\n",
    "build_success, build_output = hot_reload()\n",
    "if not build_success:\n",
    "    print(\"Fail!\")\n",
    "    print(build_output)\n",
    "else:\n",
    "    print(\"Success!\")\n",
    "if build_success:\n",
    "    test_output = run_test()\n",
    "    print(f\"Test output: {test_output}\")"
   ]
  },
  {
   "cell_type": "code",
   "execution_count": 80,
   "metadata": {},
   "outputs": [
    {
     "name": "stdout",
     "output_type": "stream",
     "text": [
      "[INST] The code for a failing test is provided. Make it pass. Your response MUST be 5 lines or fewer. [/INST]\n",
      "\n",
      "Test output:\n",
      "open_door failed! Expected property open to be true, was false at 2,-58,4 (relative: 2,2,1) (t=60)\n",
      "\n",
      "Test content:\n",
      "```java\n",
      "package ca.teamdman.sfm.ai;\n",
      "\n",
      "import ca.teamdman.sfm.SFM;\n",
      "import ca.teamdman.sfm.SFMGameTestBase;\n",
      "import net.minecraft.core.BlockPos;\n",
      "import net.minecraft.gametest.framework.GameTest;\n",
      "import net.minecraft.gametest.framework.GameTestHelper;\n",
      "import net.minecraft.world.entity.item.ItemEntity;\n",
      "import net.minecraft.world.item.ItemStack;\n",
      "import net.minecraft.world.item.Items;\n",
      "import net.minecraft.world.level.block.Blocks;\n",
      "import net.minecraft.world.level.block.DoorBlock;\n",
      "import net.minecraft.world.phys.Vec3;\n",
      "import net.minecraftforge.gametest.GameTestHolder;\n",
      "import net.minecraftforge.gametest.PrefixGameTestTemplate;\n",
      "\n",
      "@GameTestHolder(SFM.MOD_ID)\n",
      "@PrefixGameTestTemplate(false)\n",
      "public class TestChambers extends SFMGameTestBase {\n",
      "    /**\n",
      "     * The agent must make the test case pass.\n",
      "     * The agent is provided code at the beginning and the end of the test case.\n",
      "     */\n",
      "    @GameTest(template = \"3x4x3\")\n",
      "    public static void open_door(GameTestHelper helper) {\n",
      "        // begin test prefix\n",
      "        // This test case presents a wooden pressure plate, a redstone dust, and a door\n",
      "        // The test passes when the door is detected as open\n",
      "        // The code in the test prefix is the programmatic creation of the redstone, dust, door, and floor\n",
      "        // The code in the test suffix is a test assertion that the blockstate of the door is open\n",
      "        var pressurePlatePos = new BlockPos(0, 2, 1);\n",
      "        var redstonePos = new BlockPos(1, 2, 1);\n",
      "        var doorPos = new BlockPos(2, 2, 1);\n",
      "\n",
      "        // set the floor to iron blocks\n",
      "        for (int x = 0; x <= 2; x++) {\n",
      "            for (int z = 0; z <= 2; z++) {\n",
      "                helper.setBlock(new BlockPos(x, 1, z), Blocks.IRON_BLOCK);\n",
      "            }\n",
      "        }\n",
      "\n",
      "        // set the pressure plate\n",
      "        helper.setBlock(pressurePlatePos, Blocks.OAK_PRESSURE_PLATE);\n",
      "\n",
      "        // set the redstone dust\n",
      "        helper.setBlock(redstonePos, Blocks.REDSTONE_WIRE);\n",
      "\n",
      "        // set the door\n",
      "        helper.setBlock(doorPos, Blocks.IRON_DOOR);\n",
      "\n",
      "\n",
      "        var item = new ItemEntity(\n",
      "                helper.getLevel(),\n",
      "                redstonePos.getX(),\n",
      "                redstonePos.getY(),\n",
      "                redstonePos.getZ(),\n",
      "                new ItemStack(Items.DIAMOND)\n",
      "        );\n",
      "        item.setDeltaMovement(0, 0, 0);\n",
      "\n",
      "        // position the diamond above the door as an example\n",
      "        item.setPos(Vec3.atCenterOf(helper.absolutePos(doorPos).offset(0, 3, 0)));\n",
      "        // end test prefix\n",
      "\n",
      "        // begin agent code\n",
      "<FILL_ME> ONLY PROVIDE THIS PART, DO NOT RETYPE ALL THE CODE\n",
      "        // end agent code\n",
      "\n",
      "        // begin test suffix\n",
      "        helper.getLevel().addFreshEntity(item);\n",
      "        // succeed as soon as possible\n",
      "        helper.succeedWhen(() -> {\n",
      "            helper.assertBlockProperty(doorPos, DoorBlock.OPEN, true);\n",
      "        });\n",
      "        // shorten the timeout to 3 ticks\n",
      "        helper.runAfterDelay(60, () -> {\n",
      "            helper.assertBlockProperty(doorPos, DoorBlock.OPEN, true);\n",
      "            helper.succeed();\n",
      "        });\n",
      "        // end test suffix\n",
      "    }\n",
      "}\n",
      "\n",
      "```\n",
      "\n"
     ]
    }
   ],
   "source": [
    "# Create the code that will be inserted after `// begin agent code` that will make the test pass. Your response MUST begin with ```java and end with ```. \n",
    "# You MUST only provide the code for the agent block, and MUST NOT retype the entire test file.\n",
    "# You MUST propose a hypothesis in a comment at the beginning of the code that describes why the test is failing\n",
    "prompt = f\"\"\"\n",
    "[INST] The code for a failing test is provided. Make it pass. Your response MUST be 5 lines or fewer. [/INST]\n",
    "\n",
    "Test output:\n",
    "{test_output}\n",
    "\n",
    "Test content:\n",
    "```java\n",
    "{with_agent_content(read_test(), '<FILL_ME> ONLY PROVIDE THIS PART, DO NOT RETYPE ALL THE CODE')}\n",
    "```\n",
    "\"\"\".strip() + \"\\n\"\n",
    "print(prompt)"
   ]
  },
  {
   "cell_type": "code",
   "execution_count": 81,
   "metadata": {},
   "outputs": [
    {
     "name": "stderr",
     "output_type": "stream",
     "text": [
      "c:\\Users\\TeamD\\.conda\\envs\\sfm\\lib\\site-packages\\transformers\\generation\\configuration_utils.py:362: UserWarning: `do_sample` is set to `False`. However, `temperature` is set to `0.7` -- this flag is only used in sample-based generation modes. You should set `do_sample=True` or unset `temperature`.\n",
      "  warnings.warn(\n",
      "c:\\Users\\TeamD\\.conda\\envs\\sfm\\lib\\site-packages\\transformers\\generation\\configuration_utils.py:367: UserWarning: `do_sample` is set to `False`. However, `top_p` is set to `0.95` -- this flag is only used in sample-based generation modes. You should set `do_sample=True` or unset `top_p`.\n",
      "  warnings.warn(\n",
      "Setting `pad_token_id` to `eos_token_id`:2 for open-end generation.\n"
     ]
    },
    {
     "name": "stdout",
     "output_type": "stream",
     "text": [
      "[INST] The code for a failing test is provided. Make it pass. Your response MUST be 5 lines or fewer. [/INST]\n",
      "\n",
      "Test output:\n",
      "open_door failed! Expected property open to be true, was false at 2,-58,4 (relative: 2,2,1) (t=60)\n",
      "\n",
      "Test content:\n",
      "```java\n",
      "package ca.teamdman.sfm.ai;\n",
      "\n",
      "import ca.teamdman.sfm.SFM;\n",
      "import ca.teamdman.sfm.SFMGameTestBase;\n",
      "import net.minecraft.core.BlockPos;\n",
      "import net.minecraft.gametest.framework.GameTest;\n",
      "import net.minecraft.gametest.framework.GameTestHelper;\n",
      "import net.minecraft.world.entity.item.ItemEntity;\n",
      "import net.minecraft.world.item.ItemStack;\n",
      "import net.minecraft.world.item.Items;\n",
      "import net.minecraft.world.level.block.Blocks;\n",
      "import net.minecraft.world.level.block.DoorBlock;\n",
      "import net.minecraft.world.phys.Vec3;\n",
      "import net.minecraftforge.gametest.GameTestHolder;\n",
      "import net.minecraftforge.gametest.PrefixGameTestTemplate;\n",
      "\n",
      "@GameTestHolder(SFM.MOD_ID)\n",
      "@PrefixGameTestTemplate(false)\n",
      "public class TestChambers extends SFMGameTestBase {\n",
      "    /**\n",
      "     * The agent must make the test case pass.\n",
      "     * The agent is provided code at the beginning and the end of the test case.\n",
      "     */\n",
      "    @GameTest(template = \"3x4x3\")\n",
      "    public static void open_door(GameTestHelper helper) {\n",
      "        // begin test prefix\n",
      "        // This test case presents a wooden pressure plate, a redstone dust, and a door\n",
      "        // The test passes when the door is detected as open\n",
      "        // The code in the test prefix is the programmatic creation of the redstone, dust, door, and floor\n",
      "        // The code in the test suffix is a test assertion that the blockstate of the door is open\n",
      "        var pressurePlatePos = new BlockPos(0, 2, 1);\n",
      "        var redstonePos = new BlockPos(1, 2, 1);\n",
      "        var doorPos = new BlockPos(2, 2, 1);\n",
      "\n",
      "        // set the floor to iron blocks\n",
      "        for (int x = 0; x <= 2; x++) {\n",
      "            for (int z = 0; z <= 2; z++) {\n",
      "                helper.setBlock(new BlockPos(x, 1, z), Blocks.IRON_BLOCK);\n",
      "            }\n",
      "        }\n",
      "\n",
      "        // set the pressure plate\n",
      "        helper.setBlock(pressurePlatePos, Blocks.OAK_PRESSURE_PLATE);\n",
      "\n",
      "        // set the redstone dust\n",
      "        helper.setBlock(redstonePos, Blocks.REDSTONE_WIRE);\n",
      "\n",
      "        // set the door\n",
      "        helper.setBlock(doorPos, Blocks.IRON_DOOR);\n",
      "\n",
      "\n",
      "        var item = new ItemEntity(\n",
      "                helper.getLevel(),\n",
      "                redstonePos.getX(),\n",
      "                redstonePos.getY(),\n",
      "                redstonePos.getZ(),\n",
      "                new ItemStack(Items.DIAMOND)\n",
      "        );\n",
      "        item.setDeltaMovement(0, 0, 0);\n",
      "\n",
      "        // position the diamond above the door as an example\n",
      "        item.setPos(Vec3.atCenterOf(helper.absolutePos(doorPos).offset(0, 3, 0)));\n",
      "        // end test prefix\n",
      "\n",
      "        // begin agent code\n",
      "<FILL_ME> ONLY PROVIDE THIS PART, DO NOT RETYPE ALL THE CODE\n",
      "        // end agent code\n",
      "\n",
      "        // begin test suffix\n",
      "        helper.getLevel().addFreshEntity(item);\n",
      "        // succeed as soon as possible\n",
      "        helper.succeedWhen(() -> {\n",
      "            helper.assertBlockProperty(doorPos, DoorBlock.OPEN, true);\n",
      "        });\n",
      "        // shorten the timeout to 3 ticks\n",
      "        helper.runAfterDelay(60, () -> {\n",
      "            helper.assertBlockProperty(doorPos, DoorBlock.OPEN, true);\n",
      "            helper.succeed();\n",
      "        });\n",
      "        // end test suffix\n",
      "    }\n",
      "}\n",
      "\n",
      "```\n",
      "        // YOU MAY MODIFY OR REPLACE THIS SECTION WITH YOUR OWN AGENT CODE\n",
      "        // BUT YOU MUST KEEP THE TEMPLATES AND THE SUFFIX\n",
      "        // YOU CAN ADD NEW VARIABLES TO BE USED IN YOUR AGENT CODE\n",
      "        // BUT YOU MUST NOT CHANGE ANYTHING ELSE\n",
      "        // YOU MUST ALSO FOLLOW THE GUIDELINES OF THE ASSIGNMENT\n",
      "        // PLEASE DON'T FORGET TO SET THE TIMEOUT AS WELL\n",
      "        // YOU MAY ONLY MODIFY THE CODE FROM HERE UNTIL THE END OF THE FILE\n",
      "        // YOU MUST NOT DELETE ANY LINES OF CODE\n",
      "        // YOU MUST NOT RENAME ANY FUNCTIONS\n",
      "        // YOU MUST NOT CHANGE THE ORDER OF THE FUNCTIONS\n",
      "        // YOU MUST NOT CHANGE THE ARGUMENTS OF THE FUNCTIONS\n",
      "        // YOU MUST NOT CHANGE THE RETURN VALUES OF THE FUNCTIONS\n",
      "        // YOU MUST NOT CHANGE THE CONTENTS OF THE FUNCTIONS\n",
      "        // YOU MUST NOT CHANGE THE IMPORT STATEMENTS\n",
      "        // YOU MUST NOT CHANGE THE TEST CASE NAME\n",
      "        // YOU MUST NOT CHANGE THE TEST CASE DESCRIPTION\n",
      "        // YOU MUST NOT CHANGE THE TEST CASE FAIL MESSAGE\n",
      "        // YOU MUST NOT CHANGE THE TEST CASE PASS MESSAGE\n",
      "        // YOU MUST NOT CHANGE THE TEST CASE SUCCESS CONDITION\n",
      "        // YOU MUST NOT CHANGE THE TEST CASE FAIL CONDITION\n",
      "        // YOU MUST NOT CHANGE THE TEST CASE EXPECTED OUTPUT\n",
      "        // YOU MUST NOT CHANGE THE TEST CASE ACTUAL OUTPUT\n",
      "        // YOU MUST NOT CHANGE THE TEST CASE ERROR MESSAGE\n",
      "        // YOU MUST NOT CHANGE THE TEST CASE DEBUG INFO\n",
      "        // YOU MUST NOT CHANGE THE TEST CASE LOGIC\n",
      "        // YOU MUST NOT CHANGE THE TEST CASE TIMER\n",
      "        // Y\n"
     ]
    }
   ],
   "source": [
    "response0 = pipe(prompt)[0]['generated_text']\n",
    "print(response0)#.split(\"[/INST]\")[1])"
   ]
  },
  {
   "cell_type": "code",
   "execution_count": 64,
   "metadata": {},
   "outputs": [
    {
     "name": "stdout",
     "output_type": "stream",
     "text": [
      "var torchPos = new BlockPos(2, 3, 1);\n",
      "helper.setBlock(torchPos, Blocks.REDSTONE_TORCH);\n"
     ]
    }
   ],
   "source": [
    "agent_code0 = response0.split(\"```java\")[1].split(\"```\")[0].strip()\n",
    "agent_code0 = agent_code0.replace(\"// begin agent code\", \" \")\n",
    "agent_code0 = agent_code0.replace(\"// end agent code\", \" \").strip()\n",
    "print(agent_code0)"
   ]
  },
  {
   "cell_type": "code",
   "execution_count": 61,
   "metadata": {},
   "outputs": [],
   "source": [
    "write_test(with_agent_content(read_test(), indent_text(agent_code0, 8)))"
   ]
  },
  {
   "cell_type": "code",
   "execution_count": 62,
   "metadata": {},
   "outputs": [
    {
     "name": "stdout",
     "output_type": "stream",
     "text": [
      "[Hot Reload] Focusing IntelliJ\n",
      "[Hot Reload] Trigger hot reload\n",
      "[Hot Reload] Wait for build to finish\n",
      "[Hot Reload] Copy build output\n",
      "[Hot Reload] Build output succeeded: True\n",
      "Success!\n"
     ]
    }
   ],
   "source": [
    "build_success, build_output = hot_reload()\n",
    "if not build_success:\n",
    "    print(\"Fail!\")\n",
    "    print(build_output)\n",
    "else:\n",
    "    print(\"Success!\")"
   ]
  },
  {
   "cell_type": "code",
   "execution_count": 63,
   "metadata": {},
   "outputs": [
    {
     "name": "stdout",
     "output_type": "stream",
     "text": [
      "[Run Test] Running test, ensure you ran `/sfm_ai listen` in Minecraft\n"
     ]
    }
   ],
   "source": [
    "if build_success:\n",
    "    test_output = run_test()"
   ]
  },
  {
   "cell_type": "code",
   "execution_count": null,
   "metadata": {},
   "outputs": [],
   "source": [
    "prompt = f\"\"\"\n",
    "[INST] The assistant is tasked with solving puzzles in a Minecraft game test environment, similar to the video game _Portal_. The assistant is presented a game test with some code at the beginning and end of the test that the agent can not change. The agent is responsible for replacing the code in the middle of the test to cause the test to succeed. Write the code to be inserted after `// begin agent code` that will cause the test to pass. Create a hypothesis for why the test is not currently passing, then propose a solution wrapped using ```.\n",
    "Current test content:\n",
    "{with_agent_content(read_test(), '')}\n",
    "\n",
    "Build output:\n",
    "{\"Success\" if build_success else build_output}\n",
    "\n",
    "Test output:\n",
    "{\"N/A\" if not build_success else test_output}\n",
    "\n",
    "[/INST]\n",
    "\"\"\".strip() + \"\\n\\n\"\n",
    "print(prompt)"
   ]
  },
  {
   "cell_type": "code",
   "execution_count": 106,
   "metadata": {},
   "outputs": [
    {
     "name": "stdout",
     "output_type": "stream",
     "text": [
      "{'role': 'function', 'name': 'run_test', 'content': 'D:\\\\Repos\\\\Minecraft\\\\Forge\\\\SuperFactoryManager\\\\src\\\\gametest\\\\java\\\\ca\\\\teamdman\\\\sfm\\\\ai\\\\TestChambers.java:96: error: method assertBlockState in class GameTestHelper cannot be applied to given types;\\n                helper.assertBlockState(redstonePos, Blocks.REDSTONE_WIRE.defaultBlockState().setValue(PressurePlateBlock.POWERED, true));\\n                      ^\\n  required: BlockPos,Predicate<BlockState>,Supplier<String>\\n  found:    BlockPos,BlockState\\n  reason: actual and formal argument lists differ in length'}\n"
     ]
    }
   ],
   "source": [
    "fn0 = {\n",
    "    \"role\": \"function\",\n",
    "    \"name\": \"run_test\",\n",
    "    \"content\": build_output if not build_success else test_output,\n",
    "}\n",
    "print(fn0)"
   ]
  },
  {
   "cell_type": "code",
   "execution_count": 107,
   "metadata": {},
   "outputs": [
    {
     "name": "stdout",
     "output_type": "stream",
     "text": [
      "{\n",
      "  \"id\": \"chatcmpl-7x8FcWIAESmP2ehk4SgX63z6W2xsz\",\n",
      "  \"object\": \"chat.completion\",\n",
      "  \"created\": 1694327424,\n",
      "  \"model\": \"gpt-4-0613\",\n",
      "  \"choices\": [\n",
      "    {\n",
      "      \"index\": 0,\n",
      "      \"message\": {\n",
      "        \"role\": \"assistant\",\n",
      "        \"content\": null,\n",
      "        \"function_call\": {\n",
      "          \"name\": \"run_test\",\n",
      "          \"arguments\": \"{\\n  \\\"include_visual_observation\\\": false,\\n  \\\"agent_test_code\\\": \\\"// set the redstone dust\\\\nhelper.setBlock(redstonePos, Blocks.REDSTONE_WIRE);\\\\n\\\\n// add a tick delay before checking if the door is opened\\\\nhelper.runAfterDelay(1, () -> {\\\\n    helper.assertBlock(redstonePos, Blocks.REDSTONE_WIRE);\\\\n});\\\\n\\\\n// Spawn a player\\\\nLocalPlayer player = helper.spawnPlayer(helper.absolutePos(pressurePlatePos));\\\\n\\\\n// Drop the diamond on the pressure plate\\\\nplayer.drop(new ItemStack(Items.DIAMOND), true);\\\"\\n}\"\n",
      "        }\n",
      "      },\n",
      "      \"finish_reason\": \"stop\"\n",
      "    }\n",
      "  ],\n",
      "  \"usage\": {\n",
      "    \"prompt_tokens\": 1329,\n",
      "    \"completion_tokens\": 128,\n",
      "    \"total_tokens\": 1457\n",
      "  }\n",
      "}\n"
     ]
    }
   ],
   "source": [
    "response1 = openai.ChatCompletion.create(\n",
    "    model=\"gpt-4\",\n",
    "    messages=[\n",
    "        *messages,\n",
    "        response0.choices[0][\"message\"],\n",
    "        fn0,\n",
    "    ],\n",
    "    functions=[\n",
    "        {\n",
    "          \"name\": \"run_test\",\n",
    "          \"description\": \"Run the test with the agent code block substituted for the provided content. Requesting a visual observation will slow down the process through a dependency on humans.\",\n",
    "          \"parameters\": RunTest.model_json_schema()\n",
    "        },\n",
    "    ],\n",
    "    function_call={\"name\": \"run_test\"}\n",
    ")\n",
    "print(response1)"
   ]
  },
  {
   "cell_type": "code",
   "execution_count": 108,
   "metadata": {},
   "outputs": [
    {
     "name": "stdout",
     "output_type": "stream",
     "text": [
      "[Hot Reload] Focusing IntelliJ\n",
      "[Hot Reload] Trigger hot reload\n",
      "[Hot Reload] Wait for build to finish\n",
      "[Hot Reload] Copy build output\n",
      "[Hot Reload] Build output succeeded: False\n",
      "D:\\Repos\\Minecraft\\Forge\\SuperFactoryManager\\src\\gametest\\java\\ca\\teamdman\\sfm\\ai\\TestChambers.java:96: error: no suitable method found for assertBlock(BlockPos,Block)\n",
      "                helper.assertBlock(redstonePos, Blocks.REDSTONE_WIRE);\n",
      "                      ^\n",
      "    method GameTestHelper.assertBlock(BlockPos,Predicate<Block>,String) is not applicable\n",
      "      (actual and formal argument lists differ in length)\n",
      "    method GameTestHelper.assertBlock(BlockPos,Predicate<Block>,Supplier<String>) is not applicable\n",
      "      (actual and formal argument lists differ in length)\n"
     ]
    }
   ],
   "source": [
    "if response1.choices[0][\"message\"][\"content\"] is not None:\n",
    "    print(response1.choices[0][\"message\"][\"content\"])\n",
    "if \"function_call\" in response1.choices[0][\"message\"]:\n",
    "    run = RunTest(**json.loads(response1.choices[0][\"message\"][\"function_call\"][\"arguments\"]))\n",
    "    write_test(with_agent_content(read_test(), indent_text(run.agent_test_code, 12)))\n",
    "    build_success, build_output = hot_reload()\n",
    "    if not build_success:\n",
    "        print(build_output)"
   ]
  },
  {
   "cell_type": "code",
   "execution_count": 109,
   "metadata": {},
   "outputs": [],
   "source": [
    "if build_success:\n",
    "    test_output = run_test()"
   ]
  },
  {
   "cell_type": "code",
   "execution_count": 110,
   "metadata": {},
   "outputs": [],
   "source": [
    "fn1 = {\n",
    "    \"role\": \"function\",\n",
    "    \"name\": \"run_test\",\n",
    "    \"content\": build_output if not build_success else test_output,\n",
    "}"
   ]
  },
  {
   "cell_type": "code",
   "execution_count": 111,
   "metadata": {},
   "outputs": [
    {
     "name": "stdout",
     "output_type": "stream",
     "text": [
      "{\n",
      "  \"id\": \"chatcmpl-7x8Fj1pwEaZ8dDxftHQo4cVhcydEo\",\n",
      "  \"object\": \"chat.completion\",\n",
      "  \"created\": 1694327431,\n",
      "  \"model\": \"gpt-4-0613\",\n",
      "  \"choices\": [\n",
      "    {\n",
      "      \"index\": 0,\n",
      "      \"message\": {\n",
      "        \"role\": \"assistant\",\n",
      "        \"content\": null,\n",
      "        \"function_call\": {\n",
      "          \"name\": \"run_test\",\n",
      "          \"arguments\": \"{\\n  \\\"include_visual_observation\\\": false,\\n  \\\"agent_test_code\\\": \\\"// set the redstone dust\\\\nhelper.setBlock(redstonePos, Blocks.REDSTONE_WIRE);\\\\n\\\\n// Spawn a player\\\\nLocalPlayer player = helper.spawnPlayer(helper.absolutePos(pressurePlatePos));\\\\n\\\\n// Drop the diamond on the pressure plate\\\\nplayer.drop(new ItemStack(Items.DIAMOND), true);\\\"\\n}\"\n",
      "        }\n",
      "      },\n",
      "      \"finish_reason\": \"function_call\"\n",
      "    }\n",
      "  ],\n",
      "  \"usage\": {\n",
      "    \"prompt_tokens\": 1594,\n",
      "    \"completion_tokens\": 91,\n",
      "    \"total_tokens\": 1685\n",
      "  }\n",
      "}\n"
     ]
    }
   ],
   "source": [
    "response2 = openai.ChatCompletion.create(\n",
    "    model=\"gpt-4\",\n",
    "    messages=[\n",
    "        *messages,\n",
    "        response0.choices[0][\"message\"],\n",
    "        fn0,\n",
    "        response1.choices[0][\"message\"],\n",
    "        fn1\n",
    "    ],\n",
    "    functions=[\n",
    "        {\n",
    "          \"name\": \"run_test\",\n",
    "          \"description\": \"Run the test with the agent code block substituted for the provided content. Requesting a visual observation will slow down the process through a dependency on humans.\",\n",
    "          \"parameters\": RunTest.model_json_schema()\n",
    "        },\n",
    "    ],\n",
    ")\n",
    "print(response2)"
   ]
  },
  {
   "cell_type": "code",
   "execution_count": 112,
   "metadata": {},
   "outputs": [],
   "source": [
    "save_convo([\n",
    "    *messages,\n",
    "    response0.choices[0][\"message\"],\n",
    "    fn0,\n",
    "    response1.choices[0][\"message\"],\n",
    "    fn1,\n",
    "    response2.choices[0][\"message\"],\n",
    "])"
   ]
  }
 ],
 "metadata": {
  "kernelspec": {
   "display_name": "sfm",
   "language": "python",
   "name": "python3"
  },
  "language_info": {
   "codemirror_mode": {
    "name": "ipython",
    "version": 3
   },
   "file_extension": ".py",
   "mimetype": "text/x-python",
   "name": "python",
   "nbconvert_exporter": "python",
   "pygments_lexer": "ipython3",
   "version": "3.10.12"
  },
  "orig_nbformat": 4
 },
 "nbformat": 4,
 "nbformat_minor": 2
}
