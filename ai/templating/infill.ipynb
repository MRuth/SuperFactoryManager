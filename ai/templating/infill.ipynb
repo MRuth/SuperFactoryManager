{
 "cells": [
  {
   "cell_type": "code",
   "execution_count": 1,
   "metadata": {},
   "outputs": [
    {
     "name": "stdout",
     "output_type": "stream",
     "text": [
      "Requirement already satisfied: sentencepiece in c:\\users\\teamd\\.conda\\envs\\sfm\\lib\\site-packages (0.1.99)\n",
      "Note: you may need to restart the kernel to use updated packages.\n"
     ]
    }
   ],
   "source": [
    "%pip install sentencepiece"
   ]
  },
  {
   "cell_type": "code",
   "execution_count": 3,
   "metadata": {},
   "outputs": [
    {
     "name": "stdout",
     "output_type": "stream",
     "text": [
      "Collecting protobuf\n",
      "  Obtaining dependency information for protobuf from https://files.pythonhosted.org/packages/5e/46/5b9674a33cbf690ffdd79ab1863767a66461cd06ea7aeb9f90e4e50be7a5/protobuf-4.24.3-cp310-abi3-win_amd64.whl.metadata\n",
      "  Downloading protobuf-4.24.3-cp310-abi3-win_amd64.whl.metadata (540 bytes)\n",
      "Downloading protobuf-4.24.3-cp310-abi3-win_amd64.whl (430 kB)\n",
      "   ---------------------------------------- 0.0/430.5 kB ? eta -:--:--\n",
      "    --------------------------------------- 10.2/430.5 kB ? eta -:--:--\n",
      "   --- ----------------------------------- 41.0/430.5 kB 487.6 kB/s eta 0:00:01\n",
      "   -------------------- ------------------- 225.3/430.5 kB 2.0 MB/s eta 0:00:01\n",
      "   ---------------------------------------- 430.5/430.5 kB 2.7 MB/s eta 0:00:00\n",
      "Installing collected packages: protobuf\n",
      "Successfully installed protobuf-4.24.3\n",
      "Note: you may need to restart the kernel to use updated packages.\n"
     ]
    }
   ],
   "source": [
    "%pip install protobuf"
   ]
  },
  {
   "cell_type": "code",
   "execution_count": 1,
   "metadata": {},
   "outputs": [
    {
     "name": "stderr",
     "output_type": "stream",
     "text": [
      "c:\\Users\\TeamD\\.conda\\envs\\sfm\\lib\\site-packages\\tqdm\\auto.py:21: TqdmWarning: IProgress not found. Please update jupyter and ipywidgets. See https://ipywidgets.readthedocs.io/en/stable/user_install.html\n",
      "  from .autonotebook import tqdm as notebook_tqdm\n"
     ]
    },
    {
     "name": "stdout",
     "output_type": "stream",
     "text": [
      "bin c:\\Users\\TeamD\\.conda\\envs\\sfm\\lib\\site-packages\\bitsandbytes\\libbitsandbytes_cuda118.dll\n"
     ]
    },
    {
     "name": "stderr",
     "output_type": "stream",
     "text": [
      "Loading checkpoint shards: 100%|██████████| 2/2 [00:16<00:00,  8.05s/it]\n"
     ]
    }
   ],
   "source": [
    "from transformers import LlamaForCausalLM, CodeLlamaTokenizer\n",
    "\n",
    "tokenizer = CodeLlamaTokenizer.from_pretrained(\"codellama/CodeLlama-7b-hf\", device_map=\"auto\")\n",
    "model = LlamaForCausalLM.from_pretrained(\"codellama/CodeLlama-7b-hf\", device_map=\"auto\")"
   ]
  },
  {
   "cell_type": "code",
   "execution_count": 2,
   "metadata": {},
   "outputs": [
    {
     "name": "stderr",
     "output_type": "stream",
     "text": [
      "The attention mask and the pad token id were not set. As a consequence, you may observe unexpected behavior. Please pass your input's `attention_mask` to obtain reliable results.\n",
      "Setting `pad_token_id` to `eos_token_id`:2 for open-end generation.\n",
      "c:\\Users\\TeamD\\.conda\\envs\\sfm\\lib\\site-packages\\transformers\\generation\\utils.py:1535: UserWarning: You are calling .generate() with the `input_ids` being on a device type different than your model's device. `input_ids` is on cpu, whereas the model is on cuda. You may experience unexpected behaviors or slower generation. Please make sure that you have put `input_ids` to the correct device by calling for example input_ids = input_ids.to('cuda') before running `.generate()`.\n",
      "  warnings.warn(\n"
     ]
    },
    {
     "name": "stdout",
     "output_type": "stream",
     "text": [
      "def remove_non_ascii(s: str) -> str:\n",
      "    \"\"\" Remove non-ASCII characters from a string.\n",
      "\n",
      "    Args:\n",
      "        s: The string to remove non-ASCII characters from.\n",
      "\n",
      "    Returns:\n",
      "        The string with non-ASCII characters removed.\n",
      "    \"\"\"\n",
      "    result = \"\"\n",
      "    for c in s:\n",
      "        if ord(c) < 128:\n",
      "            result += c\n",
      "    return result\n",
      "\n"
     ]
    }
   ],
   "source": [
    "PROMPT = '''def remove_non_ascii(s: str) -> str:\n",
    "    \"\"\" <FILL_ME>\n",
    "    return result\n",
    "'''\n",
    "input_ids = tokenizer(PROMPT, return_tensors=\"pt\")[\"input_ids\"]\n",
    "generated_ids = model.generate(input_ids, max_new_tokens=128)\n",
    "\n",
    "filling = tokenizer.batch_decode(generated_ids[:, input_ids.shape[1]:], skip_special_tokens = True)[0]\n",
    "print(PROMPT.replace(\"<FILL_ME>\", filling))\n",
    "def remove_non_ascii(s: str) -> str:\n",
    "    \"\"\" Remove non-ASCII characters from a string.\n",
    "\n",
    "    Args:\n",
    "        s: The string to remove non-ASCII characters from.\n",
    "\n",
    "    Returns:\n",
    "        The string with non-ASCII characters removed.\n",
    "    \"\"\"\n",
    "    result = \"\"\n",
    "    for c in s:\n",
    "        if ord(c) < 128:\n",
    "            result += c\n",
    "    return result"
   ]
  },
  {
   "cell_type": "code",
   "execution_count": 3,
   "metadata": {},
   "outputs": [
    {
     "data": {
      "text/plain": [
       "'package ca.teamdman.sfm.ai;\\n\\nimport ca.teamdman.sfm.SFM;\\nimport ca.teamdman.sfm.SFMGameTestBase;\\nimport net.minecraft.core.BlockPos;\\nimport net.minecraft.gametest.framework.GameTest;\\nimport net.minecraft.gametest.framework.GameTestHelper;\\nimport net.minecraft.world.entity.item.ItemEntity;\\nimport net.minecraft.world.item.ItemStack;\\nimport net.minecraft.world.item.Items;\\nimport net.minecraft.world.level.block.Blocks;\\nimport net.minecraft.world.level.block.DoorBlock;\\nimport net.minecraft.world.phys.Vec3;\\nimport net.minecraftforge.gametest.GameTestHolder;\\nimport net.minecraftforge.gametest.PrefixGameTestTemplate;\\n\\n@GameTestHolder(SFM.MOD_ID)\\n@PrefixGameTestTemplate(false)\\npublic class TestChambers extends SFMGameTestBase {\\n    /**\\n     * The agent must make the test case pass.\\n     * The agent is provided code at the beginning and the end of the test case.\\n     */\\n    @GameTest(template = \"3x4x3\")\\n    public static void open_door(GameTestHelper helper) {\\n        // begin test prefix\\n        // This test case presents a wooden pressure plate, a redstone dust, and a door\\n        // The test passes when the door is detected as open\\n        // The code in the test prefix is the programmatic creation of the redstone, dust, door, and floor\\n        // The code in the test suffix is a test assertion that the blockstate of the door is open\\n        var pressurePlatePos = new BlockPos(0, 2, 1);\\n        var redstonePos = new BlockPos(1, 2, 1);\\n        var doorPos = new BlockPos(2, 2, 1);\\n\\n        // set the floor to iron blocks\\n        for (int x = 0; x <= 2; x++) {\\n            for (int z = 0; z <= 2; z++) {\\n                helper.setBlock(new BlockPos(x, 1, z), Blocks.IRON_BLOCK);\\n            }\\n        }\\n\\n        // set the pressure plate\\n        helper.setBlock(pressurePlatePos, Blocks.OAK_PRESSURE_PLATE);\\n\\n        // set the redstone dust\\n        helper.setBlock(redstonePos, Blocks.REDSTONE_WIRE);\\n\\n        // set the door\\n        helper.setBlock(doorPos, Blocks.IRON_DOOR);\\n\\n\\n        var item = new ItemEntity(\\n                helper.getLevel(),\\n                redstonePos.getX(),\\n                redstonePos.getY(),\\n                redstonePos.getZ(),\\n                new ItemStack(Items.DIAMOND)\\n        );\\n        item.setDeltaMovement(0, 0, 0);\\n\\n        // position the diamond above the door as an example\\n        item.setPos(Vec3.atCenterOf(helper.absolutePos(doorPos).offset(0, 3, 0)));\\n        // end test prefix\\n\\n        // begin agent code\\n        // end agent code\\n\\n        // begin test suffix\\n        helper.getLevel().addFreshEntity(item);\\n        // succeed as soon as possible\\n        helper.succeedWhen(() -> {\\n            helper.assertBlockProperty(doorPos, DoorBlock.OPEN, true);\\n        });\\n        // shorten the timeout to 3 ticks\\n        helper.runAfterDelay(60, () -> {\\n            helper.assertBlockProperty(doorPos, DoorBlock.OPEN, true);\\n            helper.succeed();\\n        });\\n        // end test suffix\\n    }\\n}\\n'"
      ]
     },
     "execution_count": 3,
     "metadata": {},
     "output_type": "execute_result"
    }
   ],
   "source": [
    "def read_test():\n",
    "    path = r\"D:\\Repos\\Minecraft\\Forge\\SuperFactoryManager\\src\\gametest\\java\\ca\\teamdman\\sfm\\ai\\TestChambers.java\"\n",
    "    with open(path, \"r\") as f:\n",
    "        return f.read()\n",
    "read_test()"
   ]
  },
  {
   "cell_type": "code",
   "execution_count": 8,
   "metadata": {},
   "outputs": [],
   "source": [
    "def with_agent_content(test: str, new_content: str, keep_region_comments: bool = True) -> str:\n",
    "    \"\"\"\n",
    "    We want to remove any previous attempts at the test\n",
    "\n",
    "    // begin agent code\n",
    "    item.setPos(Vec3.atCenterOf(helper.absolutePos(pressurePlatePos).offset(0,3,0)));\n",
    "    // end agent code\n",
    "\n",
    "    should remove the content between the two comments\n",
    "    \"\"\"\n",
    "    region_start = \"        // begin agent code\"\n",
    "    region_end = \"        // end agent code\"\n",
    "    start = test.find(region_start)\n",
    "    end = test.find(region_end)\n",
    "    if keep_region_comments:\n",
    "        return test[:start+len(region_start)] + \"\\n\" + new_content + (\"\\n\" if new_content != \"\" else \"\") + test[end:]\n",
    "    else:\n",
    "        return test[:start] + \"\\n\" + new_content + test[end+len(region_end):]"
   ]
  },
  {
   "cell_type": "code",
   "execution_count": 13,
   "metadata": {},
   "outputs": [
    {
     "name": "stdout",
     "output_type": "stream",
     "text": [
      "package ca.teamdman.sfm.ai;\n",
      "\n",
      "import ca.teamdman.sfm.SFM;\n",
      "import ca.teamdman.sfm.SFMGameTestBase;\n",
      "import net.minecraft.core.BlockPos;\n",
      "import net.minecraft.gametest.framework.GameTest;\n",
      "import net.minecraft.gametest.framework.GameTestHelper;\n",
      "import net.minecraft.world.entity.item.ItemEntity;\n",
      "import net.minecraft.world.item.ItemStack;\n",
      "import net.minecraft.world.item.Items;\n",
      "import net.minecraft.world.level.block.Blocks;\n",
      "import net.minecraft.world.level.block.DoorBlock;\n",
      "import net.minecraft.world.phys.Vec3;\n",
      "import net.minecraftforge.gametest.GameTestHolder;\n",
      "import net.minecraftforge.gametest.PrefixGameTestTemplate;\n",
      "\n",
      "@GameTestHolder(SFM.MOD_ID)\n",
      "@PrefixGameTestTemplate(false)\n",
      "public class TestChambers extends SFMGameTestBase {\n",
      "    @GameTest(template = \"3x4x3\")\n",
      "    public static void open_door(GameTestHelper helper) {\n",
      "        var pressurePlatePos = new BlockPos(0, 2, 1);\n",
      "        var redstonePos = new BlockPos(1, 2, 1);\n",
      "        var doorPos = new BlockPos(2, 2, 1);\n",
      "\n",
      "        // set the floor to iron blocks\n",
      "        for (int x = 0; x <= 2; x++) {\n",
      "            for (int z = 0; z <= 2; z++) {\n",
      "                helper.setBlock(new BlockPos(x, 1, z), Blocks.IRON_BLOCK);\n",
      "            }\n",
      "        }\n",
      "\n",
      "        // set the pressure plate\n",
      "        helper.setBlock(pressurePlatePos, Blocks.OAK_PRESSURE_PLATE);\n",
      "\n",
      "        // set the redstone dust\n",
      "        helper.setBlock(redstonePos, Blocks.REDSTONE_WIRE);\n",
      "\n",
      "        // set the door\n",
      "        helper.setBlock(doorPos, Blocks.IRON_DOOR);\n",
      "\n",
      "\n",
      "        var item = new ItemEntity(\n",
      "                helper.getLevel(),\n",
      "                redstonePos.getX(),\n",
      "                redstonePos.getY(),\n",
      "                redstonePos.getZ(),\n",
      "                new ItemStack(Items.DIAMOND)\n",
      "        );\n",
      "        item.setDeltaMovement(0, 0, 0);\n",
      "\n",
      "        // item.setPos(Vec3.atCenterOf(helper.absolutePos(doorPos).offset(0, 3, 0)));\n",
      "\n",
      "\n",
      "//position the item above the pressure plate\n",
      "<FILL_ME>\n",
      "\n",
      "        helper.getLevel().addFreshEntity(item);\n",
      "        // succeed as soon as possible\n",
      "        helper.succeedWhen(() -> {\n",
      "            helper.assertBlockProperty(doorPos, DoorBlock.OPEN, true);\n",
      "        });\n",
      "        // shorten the timeout to 3 ticks\n",
      "        helper.runAfterDelay(60, () -> {\n",
      "            helper.assertBlockProperty(doorPos, DoorBlock.OPEN, true);\n",
      "            helper.succeed();\n",
      "        });\n",
      "    }\n",
      "}\n",
      "\n"
     ]
    }
   ],
   "source": [
    "PROMPT = with_agent_content(read_test(), \"//position the item above the pressure plate\\n<FILL_ME>\", keep_region_comments=False)\n",
    "print(PROMPT)"
   ]
  },
  {
   "cell_type": "code",
   "execution_count": 14,
   "metadata": {},
   "outputs": [
    {
     "name": "stderr",
     "output_type": "stream",
     "text": [
      "The attention mask and the pad token id were not set. As a consequence, you may observe unexpected behavior. Please pass your input's `attention_mask` to obtain reliable results.\n",
      "Setting `pad_token_id` to `eos_token_id`:2 for open-end generation.\n",
      "c:\\Users\\TeamD\\.conda\\envs\\sfm\\lib\\site-packages\\transformers\\generation\\utils.py:1535: UserWarning: You are calling .generate() with the `input_ids` being on a device type different than your model's device. `input_ids` is on cpu, whereas the model is on cuda. You may experience unexpected behaviors or slower generation. Please make sure that you have put `input_ids` to the correct device by calling for example input_ids = input_ids.to('cuda') before running `.generate()`.\n",
      "  warnings.warn(\n"
     ]
    },
    {
     "name": "stdout",
     "output_type": "stream",
     "text": [
      "======\n",
      "        item.setPos(Vec3.atCenterOf(helper.absolutePos(pressurePlatePos).offset(0, 1, 0)));\n"
     ]
    }
   ],
   "source": [
    "input_ids = tokenizer(PROMPT, return_tensors=\"pt\")[\"input_ids\"]\n",
    "generated_ids = model.generate(input_ids, max_new_tokens=512)\n",
    "\n",
    "filling = tokenizer.batch_decode(generated_ids[:, input_ids.shape[1]:], skip_special_tokens = True)[0]\n",
    "print(\"======\\n\",filling)"
   ]
  },
  {
   "cell_type": "code",
   "execution_count": null,
   "metadata": {},
   "outputs": [],
   "source": [
    "print(PROMPT.replace(\"<FILL_ME>\", filling))"
   ]
  }
 ],
 "metadata": {
  "kernelspec": {
   "display_name": "sfm",
   "language": "python",
   "name": "python3"
  },
  "language_info": {
   "codemirror_mode": {
    "name": "ipython",
    "version": 3
   },
   "file_extension": ".py",
   "mimetype": "text/x-python",
   "name": "python",
   "nbconvert_exporter": "python",
   "pygments_lexer": "ipython3",
   "version": "3.10.12"
  },
  "orig_nbformat": 4
 },
 "nbformat": 4,
 "nbformat_minor": 2
}
