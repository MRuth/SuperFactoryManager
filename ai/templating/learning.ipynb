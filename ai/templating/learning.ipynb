{
 "cells": [
  {
   "cell_type": "code",
   "execution_count": 4,
   "id": "04121ce3",
   "metadata": {},
   "outputs": [
    {
     "name": "stdout",
     "output_type": "stream",
     "text": [
      "Collecting openai\n",
      "  Obtaining dependency information for openai from https://files.pythonhosted.org/packages/ae/59/911d6e5f1d7514d79c527067643376cddcf4cb8d1728e599b3b03ab51c69/openai-0.28.0-py3-none-any.whl.metadata\n",
      "  Downloading openai-0.28.0-py3-none-any.whl.metadata (13 kB)\n",
      "Requirement already satisfied: requests>=2.20 in c:\\users\\teamd\\.conda\\envs\\sfm\\lib\\site-packages (from openai) (2.28.1)\n",
      "Requirement already satisfied: tqdm in c:\\users\\teamd\\.conda\\envs\\sfm\\lib\\site-packages (from openai) (4.66.1)\n",
      "Collecting aiohttp (from openai)\n",
      "  Obtaining dependency information for aiohttp from https://files.pythonhosted.org/packages/67/35/84691e1f705b1ec4ec583e27c04e0e9672dffadb86fbbd98bc3d8942f6c2/aiohttp-3.8.5-cp310-cp310-win_amd64.whl.metadata\n",
      "  Downloading aiohttp-3.8.5-cp310-cp310-win_amd64.whl.metadata (8.0 kB)\n",
      "Requirement already satisfied: charset-normalizer<3,>=2 in c:\\users\\teamd\\.conda\\envs\\sfm\\lib\\site-packages (from requests>=2.20->openai) (2.1.1)\n",
      "Requirement already satisfied: idna<4,>=2.5 in c:\\users\\teamd\\.conda\\envs\\sfm\\lib\\site-packages (from requests>=2.20->openai) (3.4)\n",
      "Requirement already satisfied: urllib3<1.27,>=1.21.1 in c:\\users\\teamd\\.conda\\envs\\sfm\\lib\\site-packages (from requests>=2.20->openai) (1.26.13)\n",
      "Requirement already satisfied: certifi>=2017.4.17 in c:\\users\\teamd\\.conda\\envs\\sfm\\lib\\site-packages (from requests>=2.20->openai) (2022.12.7)\n",
      "Collecting attrs>=17.3.0 (from aiohttp->openai)\n",
      "  Using cached attrs-23.1.0-py3-none-any.whl (61 kB)\n",
      "Collecting multidict<7.0,>=4.5 (from aiohttp->openai)\n",
      "  Using cached multidict-6.0.4-cp310-cp310-win_amd64.whl (28 kB)\n",
      "Collecting async-timeout<5.0,>=4.0.0a3 (from aiohttp->openai)\n",
      "  Obtaining dependency information for async-timeout<5.0,>=4.0.0a3 from https://files.pythonhosted.org/packages/a7/fa/e01228c2938de91d47b307831c62ab9e4001e747789d0b05baf779a6488c/async_timeout-4.0.3-py3-none-any.whl.metadata\n",
      "  Downloading async_timeout-4.0.3-py3-none-any.whl.metadata (4.2 kB)\n",
      "Collecting yarl<2.0,>=1.0 (from aiohttp->openai)\n",
      "  Using cached yarl-1.9.2-cp310-cp310-win_amd64.whl (61 kB)\n",
      "Collecting frozenlist>=1.1.1 (from aiohttp->openai)\n",
      "  Obtaining dependency information for frozenlist>=1.1.1 from https://files.pythonhosted.org/packages/ad/1a/0035d6dd5e51580c060f80ac6819f0ea55da2b1f2dad8ad15f5d3e50d91c/frozenlist-1.4.0-cp310-cp310-win_amd64.whl.metadata\n",
      "  Downloading frozenlist-1.4.0-cp310-cp310-win_amd64.whl.metadata (5.3 kB)\n",
      "Collecting aiosignal>=1.1.2 (from aiohttp->openai)\n",
      "  Using cached aiosignal-1.3.1-py3-none-any.whl (7.6 kB)\n",
      "Requirement already satisfied: colorama in c:\\users\\teamd\\.conda\\envs\\sfm\\lib\\site-packages (from tqdm->openai) (0.4.6)\n",
      "Downloading openai-0.28.0-py3-none-any.whl (76 kB)\n",
      "   ---------------------------------------- 0.0/76.5 kB ? eta -:--:--\n",
      "   ---------------- ----------------------- 30.7/76.5 kB 1.3 MB/s eta 0:00:01\n",
      "   ---------------------------------------- 76.5/76.5 kB 2.1 MB/s eta 0:00:00\n",
      "Using cached aiohttp-3.8.5-cp310-cp310-win_amd64.whl (323 kB)\n",
      "Downloading async_timeout-4.0.3-py3-none-any.whl (5.7 kB)\n",
      "Using cached frozenlist-1.4.0-cp310-cp310-win_amd64.whl (44 kB)\n",
      "Installing collected packages: multidict, frozenlist, attrs, async-timeout, yarl, aiosignal, aiohttp, openai\n",
      "Successfully installed aiohttp-3.8.5 aiosignal-1.3.1 async-timeout-4.0.3 attrs-23.1.0 frozenlist-1.4.0 multidict-6.0.4 openai-0.28.0 yarl-1.9.2\n",
      "Note: you may need to restart the kernel to use updated packages.\n"
     ]
    }
   ],
   "source": [
    "%pip install openai"
   ]
  },
  {
   "cell_type": "code",
   "execution_count": 2,
   "id": "initial_id",
   "metadata": {
    "collapsed": true,
    "is_executing": true
   },
   "outputs": [
    {
     "name": "stdout",
     "output_type": "stream",
     "text": [
      "hi\n"
     ]
    }
   ],
   "source": [
    "print(\"hi\")"
   ]
  },
  {
   "cell_type": "code",
   "execution_count": 3,
   "id": "65da9f90e6718248",
   "metadata": {
    "collapsed": false,
    "is_executing": true
   },
   "outputs": [
    {
     "name": "stdout",
     "output_type": "stream",
     "text": [
      "True\n"
     ]
    }
   ],
   "source": [
    "import torch\n",
    "print(torch.cuda.is_available())"
   ]
  },
  {
   "cell_type": "code",
   "execution_count": 5,
   "id": "556986c8139c79a",
   "metadata": {
    "collapsed": false
   },
   "outputs": [],
   "source": [
    "key = !op read \"op://private/sfm openai api key/password\""
   ]
  },
  {
   "cell_type": "code",
   "execution_count": 6,
   "id": "aa208a59",
   "metadata": {},
   "outputs": [],
   "source": [
    "key = key[0]"
   ]
  },
  {
   "cell_type": "code",
   "execution_count": 7,
   "id": "28ebe3bf",
   "metadata": {},
   "outputs": [
    {
     "data": {
      "text/plain": [
       "51"
      ]
     },
     "execution_count": 7,
     "metadata": {},
     "output_type": "execute_result"
    }
   ],
   "source": [
    "len(key)"
   ]
  },
  {
   "cell_type": "markdown",
   "id": "da2ab463",
   "metadata": {},
   "source": [
    "https://medium.com/dev-bits/a-clear-guide-to-openai-function-calling-with-python-dcbc200c5d70#:~:text=A%20clear%20guide%20to%20OpenAI%20function%20calling%20with,...%206%20Making%20OpenAI%20API%20function%20call%20"
   ]
  },
  {
   "cell_type": "code",
   "execution_count": 14,
   "id": "a7a9b970",
   "metadata": {},
   "outputs": [
    {
     "name": "stdout",
     "output_type": "stream",
     "text": [
      "Collecting pydantic\n",
      "  Obtaining dependency information for pydantic from https://files.pythonhosted.org/packages/82/06/fafdc75e48b248eff364b4249af4bcc6952225e8f20e8205820afc66e88e/pydantic-2.3.0-py3-none-any.whl.metadata\n",
      "  Downloading pydantic-2.3.0-py3-none-any.whl.metadata (148 kB)\n",
      "     ---------------------------------------- 0.0/148.8 kB ? eta -:--:--\n",
      "     -- ------------------------------------- 10.2/148.8 kB ? eta -:--:--\n",
      "     ------- ----------------------------- 30.7/148.8 kB 445.2 kB/s eta 0:00:01\n",
      "     ---------- -------------------------- 41.0/148.8 kB 393.8 kB/s eta 0:00:01\n",
      "     ----------------------------- ------ 122.9/148.8 kB 901.1 kB/s eta 0:00:01\n",
      "     -------------------------------------- 148.8/148.8 kB 1.1 MB/s eta 0:00:00\n",
      "Collecting annotated-types>=0.4.0 (from pydantic)\n",
      "  Obtaining dependency information for annotated-types>=0.4.0 from https://files.pythonhosted.org/packages/d8/f0/a2ee543a96cc624c35a9086f39b1ed2aa403c6d355dfe47a11ee5c64a164/annotated_types-0.5.0-py3-none-any.whl.metadata\n",
      "  Downloading annotated_types-0.5.0-py3-none-any.whl.metadata (11 kB)\n",
      "Collecting pydantic-core==2.6.3 (from pydantic)\n",
      "  Obtaining dependency information for pydantic-core==2.6.3 from https://files.pythonhosted.org/packages/63/af/869dd176247e855468249bcdb873103146c6b41d52b12a7c6ffc5d30462f/pydantic_core-2.6.3-cp310-none-win_amd64.whl.metadata\n",
      "  Downloading pydantic_core-2.6.3-cp310-none-win_amd64.whl.metadata (6.6 kB)\n",
      "Collecting typing-extensions>=4.6.1 (from pydantic)\n",
      "  Obtaining dependency information for typing-extensions>=4.6.1 from https://files.pythonhosted.org/packages/ec/6b/63cc3df74987c36fe26157ee12e09e8f9db4de771e0f3404263117e75b95/typing_extensions-4.7.1-py3-none-any.whl.metadata\n",
      "  Downloading typing_extensions-4.7.1-py3-none-any.whl.metadata (3.1 kB)\n",
      "Downloading pydantic-2.3.0-py3-none-any.whl (374 kB)\n",
      "   ---------------------------------------- 0.0/374.5 kB ? eta -:--:--\n",
      "   --------------------------------------- 374.5/374.5 kB 11.8 MB/s eta 0:00:00\n",
      "Downloading pydantic_core-2.6.3-cp310-none-win_amd64.whl (1.7 MB)\n",
      "   ---------------------------------------- 0.0/1.7 MB ? eta -:--:--\n",
      "   ---------------------------- ----------- 1.3/1.7 MB 40.3 MB/s eta 0:00:01\n",
      "   ---------------------------------------- 1.7/1.7 MB 28.0 MB/s eta 0:00:00\n",
      "Using cached annotated_types-0.5.0-py3-none-any.whl (11 kB)\n",
      "Using cached typing_extensions-4.7.1-py3-none-any.whl (33 kB)\n",
      "Installing collected packages: typing-extensions, annotated-types, pydantic-core, pydantic\n",
      "  Attempting uninstall: typing-extensions\n",
      "    Found existing installation: typing_extensions 4.4.0\n",
      "    Uninstalling typing_extensions-4.4.0:\n",
      "      Successfully uninstalled typing_extensions-4.4.0\n",
      "Successfully installed annotated-types-0.5.0 pydantic-2.3.0 pydantic-core-2.6.3 typing-extensions-4.7.1\n",
      "Note: you may need to restart the kernel to use updated packages.\n"
     ]
    }
   ],
   "source": [
    "%pip install pydantic"
   ]
  },
  {
   "cell_type": "code",
   "execution_count": 1,
   "id": "8a3a15c0",
   "metadata": {},
   "outputs": [],
   "source": [
    "from typing import List\n",
    "from pydantic import BaseModel\n",
    "\n",
    "class StepByStepAIResponse(BaseModel):\n",
    "    title: str\n",
    "    steps: List[str]"
   ]
  },
  {
   "cell_type": "code",
   "execution_count": 15,
   "id": "d1f6688c",
   "metadata": {},
   "outputs": [
    {
     "name": "stdout",
     "output_type": "stream",
     "text": [
      "{'properties': {'steps': {'items': {'type': 'string'},\n",
      "                          'title': 'Steps',\n",
      "                          'type': 'array'},\n",
      "                'title': {'title': 'Title', 'type': 'string'}},\n",
      " 'required': ['title', 'steps'],\n",
      " 'title': 'StepByStepAIResponse',\n",
      " 'type': 'object'}\n"
     ]
    }
   ],
   "source": [
    "schema = StepByStepAIResponse.model_json_schema() # returns a dict like JSON schema\n",
    "\n",
    "# schema content looks like below\n",
    "from pprint import pprint\n",
    "pprint(schema)"
   ]
  },
  {
   "cell_type": "code",
   "execution_count": 21,
   "id": "10f57ebf",
   "metadata": {},
   "outputs": [
    {
     "name": "stderr",
     "output_type": "stream",
     "text": [
      "C:\\Users\\TeamD\\AppData\\Local\\Temp\\ipykernel_21800\\2954810020.py:16: PydanticDeprecatedSince20: The `schema` method is deprecated; use `model_json_schema` instead. Deprecated in Pydantic V2.0 to be removed in V3.0. See Pydantic V2 Migration Guide at https://errors.pydantic.dev/2.3/migration/\n",
      "  \"parameters\": StepByStepAIResponse.schema()\n"
     ]
    },
    {
     "name": "stdout",
     "output_type": "stream",
     "text": [
      "{'steps': ['Step 1: Gather all the necessary components',\n",
      "           'Step 2: Prepare the PC case',\n",
      "           'Step 3: Install the power supply',\n",
      "           'Step 4: Mount the motherboard',\n",
      "           'Step 5: Install the CPU',\n",
      "           'Step 6: Install the RAM',\n",
      "           'Step 7: Install the storage devices',\n",
      "           'Step 8: Connect the cables',\n",
      "           'Step 9: Install the graphics card',\n",
      "           'Step 10: Install any additional expansion cards',\n",
      "           'Step 11: Connect the power cables',\n",
      "           'Step 12: Complete the assembly'],\n",
      " 'title': 'Step-by-step guide to assembling a PC'}\n"
     ]
    }
   ],
   "source": [
    "import openai\n",
    "import os\n",
    "import json\n",
    "\n",
    "openai.api_key = key\n",
    "\n",
    "response = openai.ChatCompletion.create(\n",
    "    model=\"gpt-3.5-turbo-0613\",\n",
    "    messages=[\n",
    "       {\"role\": \"user\", \"content\": \"Explain how to assemble a PC\"}\n",
    "    ],\n",
    "    functions=[\n",
    "        {\n",
    "          \"name\": \"get_answer_for_user_query\",\n",
    "          \"description\": \"Get user answer in series of steps\",\n",
    "          \"parameters\": StepByStepAIResponse.schema()\n",
    "        }\n",
    "    ],\n",
    "    function_call={\"name\": \"get_answer_for_user_query\"}\n",
    ")\n",
    "\n",
    "output = json.loads(response.choices[0][\"message\"][\"function_call\"][\"arguments\"])\n",
    "pprint(output)"
   ]
  },
  {
   "cell_type": "code",
   "execution_count": 22,
   "id": "2192b86e",
   "metadata": {},
   "outputs": [
    {
     "name": "stdout",
     "output_type": "stream",
     "text": [
      "StepByStepAIResponse(title='Step-by-step guide to assembling a PC', steps=['Step 1: Gather all the necessary components', 'Step 2: Prepare the PC case', 'Step 3: Install the power supply', 'Step 4: Mount the motherboard', 'Step 5: Install the CPU', 'Step 6: Install the RAM', 'Step 7: Install the storage devices', 'Step 8: Connect the cables', 'Step 9: Install the graphics card', 'Step 10: Install any additional expansion cards', 'Step 11: Connect the power cables', 'Step 12: Complete the assembly'])\n",
      "12\n"
     ]
    }
   ],
   "source": [
    "sbs = StepByStepAIResponse(**output)\n",
    "pprint(sbs)\n",
    "print(len(sbs.steps))"
   ]
  },
  {
   "cell_type": "code",
   "execution_count": 20,
   "id": "6e967337",
   "metadata": {},
   "outputs": [
    {
     "name": "stderr",
     "output_type": "stream",
     "text": [
      "C:\\Users\\TeamD\\AppData\\Local\\Temp\\ipykernel_21800\\2347006780.py:12: PydanticDeprecatedSince20: The `schema` method is deprecated; use `model_json_schema` instead. Deprecated in Pydantic V2.0 to be removed in V3.0. See Pydantic V2 Migration Guide at https://errors.pydantic.dev/2.3/migration/\n",
      "  \"parameters\": StepByStepAIResponse.schema()\n"
     ]
    },
    {
     "name": "stdout",
     "output_type": "stream",
     "text": [
      "{'steps': ['Step 1: In a large mixing bowl, whisk together the flour, sugar, '\n",
      "           'baking powder, and salt.',\n",
      "           'Step 2: In a separate bowl, whisk together the milk, eggs, and '\n",
      "           'melted butter.',\n",
      "           'Step 3: Pour the wet ingredients into the dry ingredients and stir '\n",
      "           'until just combined. Do not overmix; the batter should be slightly '\n",
      "           'lumpy.',\n",
      "           'Step 4: Heat a non-stick frying pan or griddle over medium heat. '\n",
      "           'Grease with butter or cooking spray.',\n",
      "           'Step 5: Pour 1/4 cup of batter onto the pan for each pancake. Cook '\n",
      "           'for 2-3 minutes, until bubbles form on the surface and the edges '\n",
      "           'start to set.',\n",
      "           'Step 6: Flip the pancake and cook for an additional 1-2 minutes, '\n",
      "           'until golden brown on both sides.',\n",
      "           'Step 7: Repeat with the remaining batter, adding more butter or '\n",
      "           'cooking spray as needed.',\n",
      "           'Step 8: Serve the pancakes warm with your favorite toppings, such '\n",
      "           'as maple syrup, fresh fruits, or whipped cream.'],\n",
      " 'title': 'Pancake Recipe'}\n"
     ]
    }
   ],
   "source": [
    "# ... imports and other code\n",
    "\n",
    "response = openai.ChatCompletion.create(\n",
    "   model=\"gpt-3.5-turbo-0613\",\n",
    "   messages=[\n",
    "      {\"role\": \"user\", \"content\": \"How to make a pancake ?\"}\n",
    "   ],\n",
    "   functions=[\n",
    "      {\n",
    "        \"name\": \"get_answer_for_user_query\",\n",
    "        \"description\": \"Get user answer in series of steps\",\n",
    "        \"parameters\": StepByStepAIResponse.schema()\n",
    "      }\n",
    "   ],\n",
    "   function_call={\"name\": \"get_answer_for_user_query\"}\n",
    ")\n",
    "\n",
    "output = json.loads(response.choices[0][\"message\"][\"function_call\"][\"arguments\"])\n",
    "\n",
    "pprint(output)"
   ]
  }
 ],
 "metadata": {
  "kernelspec": {
   "display_name": "Python 3",
   "language": "python",
   "name": "python3"
  },
  "language_info": {
   "codemirror_mode": {
    "name": "ipython",
    "version": 3
   },
   "file_extension": ".py",
   "mimetype": "text/x-python",
   "name": "python",
   "nbconvert_exporter": "python",
   "pygments_lexer": "ipython3",
   "version": "3.10.12"
  }
 },
 "nbformat": 4,
 "nbformat_minor": 5
}
